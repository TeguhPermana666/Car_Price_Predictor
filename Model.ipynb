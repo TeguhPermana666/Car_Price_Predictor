{
 "cells": [
  {
   "cell_type": "code",
   "execution_count": 165,
   "metadata": {},
   "outputs": [],
   "source": [
    "import pandas as pd\n",
    "import numpy as np"
   ]
  },
  {
   "cell_type": "code",
   "execution_count": 166,
   "metadata": {},
   "outputs": [],
   "source": [
    "df= pd.read_csv(\"Data\\HARGA RUMAH BADUNG RUMAH 123.csv\")"
   ]
  },
  {
   "cell_type": "code",
   "execution_count": 167,
   "metadata": {},
   "outputs": [
    {
     "data": {
      "text/plain": [
       "Index(['HARGA', 'LT', 'LB', 'JKT', 'JKM', 'GRS', 'KOTA'], dtype='object')"
      ]
     },
     "execution_count": 167,
     "metadata": {},
     "output_type": "execute_result"
    }
   ],
   "source": [
    "df.columns"
   ]
  },
  {
   "cell_type": "code",
   "execution_count": 168,
   "metadata": {},
   "outputs": [
    {
     "name": "stdout",
     "output_type": "stream",
     "text": [
      "<class 'pandas.core.frame.DataFrame'>\n",
      "RangeIndex: 1001 entries, 0 to 1000\n",
      "Data columns (total 7 columns):\n",
      " #   Column  Non-Null Count  Dtype \n",
      "---  ------  --------------  ----- \n",
      " 0   HARGA   1001 non-null   object\n",
      " 1   LT      1001 non-null   int64 \n",
      " 2   LB      1001 non-null   int64 \n",
      " 3   JKT     1001 non-null   int64 \n",
      " 4   JKM     1001 non-null   int64 \n",
      " 5   GRS     1001 non-null   object\n",
      " 6   KOTA    1001 non-null   object\n",
      "dtypes: int64(4), object(3)\n",
      "memory usage: 54.9+ KB\n"
     ]
    }
   ],
   "source": [
    "df.info()"
   ]
  },
  {
   "cell_type": "code",
   "execution_count": 169,
   "metadata": {},
   "outputs": [
    {
     "data": {
      "text/html": [
       "<div>\n",
       "<style scoped>\n",
       "    .dataframe tbody tr th:only-of-type {\n",
       "        vertical-align: middle;\n",
       "    }\n",
       "\n",
       "    .dataframe tbody tr th {\n",
       "        vertical-align: top;\n",
       "    }\n",
       "\n",
       "    .dataframe thead th {\n",
       "        text-align: right;\n",
       "    }\n",
       "</style>\n",
       "<table border=\"1\" class=\"dataframe\">\n",
       "  <thead>\n",
       "    <tr style=\"text-align: right;\">\n",
       "      <th></th>\n",
       "      <th>HARGA</th>\n",
       "      <th>LT</th>\n",
       "      <th>LB</th>\n",
       "      <th>JKT</th>\n",
       "      <th>JKM</th>\n",
       "      <th>GRS</th>\n",
       "      <th>KOTA</th>\n",
       "    </tr>\n",
       "  </thead>\n",
       "  <tbody>\n",
       "    <tr>\n",
       "      <th>0</th>\n",
       "      <td>28,000,000,000</td>\n",
       "      <td>1100</td>\n",
       "      <td>700</td>\n",
       "      <td>5</td>\n",
       "      <td>6</td>\n",
       "      <td>ADA</td>\n",
       "      <td>BADUNG</td>\n",
       "    </tr>\n",
       "    <tr>\n",
       "      <th>1</th>\n",
       "      <td>19,000,000,000</td>\n",
       "      <td>824</td>\n",
       "      <td>800</td>\n",
       "      <td>4</td>\n",
       "      <td>4</td>\n",
       "      <td>ADA</td>\n",
       "      <td>BADUNG</td>\n",
       "    </tr>\n",
       "    <tr>\n",
       "      <th>2</th>\n",
       "      <td>4,700,000,000</td>\n",
       "      <td>500</td>\n",
       "      <td>400</td>\n",
       "      <td>4</td>\n",
       "      <td>3</td>\n",
       "      <td>ADA</td>\n",
       "      <td>BADUNG</td>\n",
       "    </tr>\n",
       "    <tr>\n",
       "      <th>3</th>\n",
       "      <td>4,900,000,000</td>\n",
       "      <td>251</td>\n",
       "      <td>300</td>\n",
       "      <td>5</td>\n",
       "      <td>4</td>\n",
       "      <td>ADA</td>\n",
       "      <td>BADUNG</td>\n",
       "    </tr>\n",
       "    <tr>\n",
       "      <th>4</th>\n",
       "      <td>28,000,000,000</td>\n",
       "      <td>1340</td>\n",
       "      <td>575</td>\n",
       "      <td>4</td>\n",
       "      <td>5</td>\n",
       "      <td>ADA</td>\n",
       "      <td>BADUNG</td>\n",
       "    </tr>\n",
       "    <tr>\n",
       "      <th>...</th>\n",
       "      <td>...</td>\n",
       "      <td>...</td>\n",
       "      <td>...</td>\n",
       "      <td>...</td>\n",
       "      <td>...</td>\n",
       "      <td>...</td>\n",
       "      <td>...</td>\n",
       "    </tr>\n",
       "    <tr>\n",
       "      <th>996</th>\n",
       "      <td>16,000,000,000</td>\n",
       "      <td>488</td>\n",
       "      <td>550</td>\n",
       "      <td>6</td>\n",
       "      <td>5</td>\n",
       "      <td>ADA</td>\n",
       "      <td>BADUNG</td>\n",
       "    </tr>\n",
       "    <tr>\n",
       "      <th>997</th>\n",
       "      <td>4,500,000,000</td>\n",
       "      <td>209</td>\n",
       "      <td>270</td>\n",
       "      <td>4</td>\n",
       "      <td>4</td>\n",
       "      <td>ADA</td>\n",
       "      <td>BADUNG</td>\n",
       "    </tr>\n",
       "    <tr>\n",
       "      <th>998</th>\n",
       "      <td>29,000,000,000</td>\n",
       "      <td>692</td>\n",
       "      <td>400</td>\n",
       "      <td>4</td>\n",
       "      <td>3</td>\n",
       "      <td>TIDAK ADA</td>\n",
       "      <td>BADUNG</td>\n",
       "    </tr>\n",
       "    <tr>\n",
       "      <th>999</th>\n",
       "      <td>1,700,000,000</td>\n",
       "      <td>102</td>\n",
       "      <td>140</td>\n",
       "      <td>4</td>\n",
       "      <td>3</td>\n",
       "      <td>TIDAK ADA</td>\n",
       "      <td>BADUNG</td>\n",
       "    </tr>\n",
       "    <tr>\n",
       "      <th>1000</th>\n",
       "      <td>1,250,000,000</td>\n",
       "      <td>63</td>\n",
       "      <td>110</td>\n",
       "      <td>3</td>\n",
       "      <td>3</td>\n",
       "      <td>TIDAK ADA</td>\n",
       "      <td>BADUNG</td>\n",
       "    </tr>\n",
       "  </tbody>\n",
       "</table>\n",
       "<p>1001 rows × 7 columns</p>\n",
       "</div>"
      ],
      "text/plain": [
       "               HARGA    LT   LB  JKT  JKM        GRS    KOTA\n",
       "0     28,000,000,000  1100  700    5    6        ADA  BADUNG\n",
       "1     19,000,000,000   824  800    4    4        ADA  BADUNG\n",
       "2      4,700,000,000   500  400    4    3        ADA  BADUNG\n",
       "3      4,900,000,000   251  300    5    4        ADA  BADUNG\n",
       "4     28,000,000,000  1340  575    4    5        ADA  BADUNG\n",
       "...              ...   ...  ...  ...  ...        ...     ...\n",
       "996   16,000,000,000   488  550    6    5        ADA  BADUNG\n",
       "997    4,500,000,000   209  270    4    4        ADA  BADUNG\n",
       "998   29,000,000,000   692  400    4    3  TIDAK ADA  BADUNG\n",
       "999    1,700,000,000   102  140    4    3  TIDAK ADA  BADUNG\n",
       "1000   1,250,000,000    63  110    3    3  TIDAK ADA  BADUNG\n",
       "\n",
       "[1001 rows x 7 columns]"
      ]
     },
     "execution_count": 169,
     "metadata": {},
     "output_type": "execute_result"
    }
   ],
   "source": [
    "df"
   ]
  },
  {
   "cell_type": "code",
   "execution_count": 170,
   "metadata": {},
   "outputs": [],
   "source": [
    "df.loc[(df[\"GRS\"]==\"ADA\"),[\"GRS\"]]=1\n",
    "df.loc[(df[\"GRS\"]==\"TIDAK ADA\"),[\"GRS\"]]=0"
   ]
  },
  {
   "cell_type": "code",
   "execution_count": 171,
   "metadata": {},
   "outputs": [
    {
     "data": {
      "text/html": [
       "<div>\n",
       "<style scoped>\n",
       "    .dataframe tbody tr th:only-of-type {\n",
       "        vertical-align: middle;\n",
       "    }\n",
       "\n",
       "    .dataframe tbody tr th {\n",
       "        vertical-align: top;\n",
       "    }\n",
       "\n",
       "    .dataframe thead th {\n",
       "        text-align: right;\n",
       "    }\n",
       "</style>\n",
       "<table border=\"1\" class=\"dataframe\">\n",
       "  <thead>\n",
       "    <tr style=\"text-align: right;\">\n",
       "      <th></th>\n",
       "      <th>GRS</th>\n",
       "    </tr>\n",
       "  </thead>\n",
       "  <tbody>\n",
       "    <tr>\n",
       "      <th>8</th>\n",
       "      <td>0</td>\n",
       "    </tr>\n",
       "    <tr>\n",
       "      <th>9</th>\n",
       "      <td>0</td>\n",
       "    </tr>\n",
       "    <tr>\n",
       "      <th>29</th>\n",
       "      <td>0</td>\n",
       "    </tr>\n",
       "    <tr>\n",
       "      <th>66</th>\n",
       "      <td>0</td>\n",
       "    </tr>\n",
       "    <tr>\n",
       "      <th>80</th>\n",
       "      <td>0</td>\n",
       "    </tr>\n",
       "    <tr>\n",
       "      <th>...</th>\n",
       "      <td>...</td>\n",
       "    </tr>\n",
       "    <tr>\n",
       "      <th>984</th>\n",
       "      <td>0</td>\n",
       "    </tr>\n",
       "    <tr>\n",
       "      <th>992</th>\n",
       "      <td>0</td>\n",
       "    </tr>\n",
       "    <tr>\n",
       "      <th>998</th>\n",
       "      <td>0</td>\n",
       "    </tr>\n",
       "    <tr>\n",
       "      <th>999</th>\n",
       "      <td>0</td>\n",
       "    </tr>\n",
       "    <tr>\n",
       "      <th>1000</th>\n",
       "      <td>0</td>\n",
       "    </tr>\n",
       "  </tbody>\n",
       "</table>\n",
       "<p>222 rows × 1 columns</p>\n",
       "</div>"
      ],
      "text/plain": [
       "     GRS\n",
       "8      0\n",
       "9      0\n",
       "29     0\n",
       "66     0\n",
       "80     0\n",
       "...   ..\n",
       "984    0\n",
       "992    0\n",
       "998    0\n",
       "999    0\n",
       "1000   0\n",
       "\n",
       "[222 rows x 1 columns]"
      ]
     },
     "execution_count": 171,
     "metadata": {},
     "output_type": "execute_result"
    }
   ],
   "source": [
    "df.loc[(df[\"GRS\"]==0),[\"GRS\"]]"
   ]
  },
  {
   "cell_type": "code",
   "execution_count": 172,
   "metadata": {},
   "outputs": [
    {
     "data": {
      "text/html": [
       "<div>\n",
       "<style scoped>\n",
       "    .dataframe tbody tr th:only-of-type {\n",
       "        vertical-align: middle;\n",
       "    }\n",
       "\n",
       "    .dataframe tbody tr th {\n",
       "        vertical-align: top;\n",
       "    }\n",
       "\n",
       "    .dataframe thead th {\n",
       "        text-align: right;\n",
       "    }\n",
       "</style>\n",
       "<table border=\"1\" class=\"dataframe\">\n",
       "  <thead>\n",
       "    <tr style=\"text-align: right;\">\n",
       "      <th></th>\n",
       "      <th>LT</th>\n",
       "      <th>LB</th>\n",
       "      <th>JKT</th>\n",
       "      <th>JKM</th>\n",
       "    </tr>\n",
       "  </thead>\n",
       "  <tbody>\n",
       "    <tr>\n",
       "      <th>count</th>\n",
       "      <td>1001.000000</td>\n",
       "      <td>1001.000000</td>\n",
       "      <td>1001.000000</td>\n",
       "      <td>1001.000000</td>\n",
       "    </tr>\n",
       "    <tr>\n",
       "      <th>mean</th>\n",
       "      <td>530.504496</td>\n",
       "      <td>487.275724</td>\n",
       "      <td>4.457542</td>\n",
       "      <td>3.940060</td>\n",
       "    </tr>\n",
       "    <tr>\n",
       "      <th>std</th>\n",
       "      <td>531.069773</td>\n",
       "      <td>452.872262</td>\n",
       "      <td>2.004606</td>\n",
       "      <td>1.903261</td>\n",
       "    </tr>\n",
       "    <tr>\n",
       "      <th>min</th>\n",
       "      <td>22.000000</td>\n",
       "      <td>38.000000</td>\n",
       "      <td>1.000000</td>\n",
       "      <td>1.000000</td>\n",
       "    </tr>\n",
       "    <tr>\n",
       "      <th>25%</th>\n",
       "      <td>220.000000</td>\n",
       "      <td>300.000000</td>\n",
       "      <td>4.000000</td>\n",
       "      <td>3.000000</td>\n",
       "    </tr>\n",
       "    <tr>\n",
       "      <th>50%</th>\n",
       "      <td>400.000000</td>\n",
       "      <td>411.000000</td>\n",
       "      <td>4.000000</td>\n",
       "      <td>4.000000</td>\n",
       "    </tr>\n",
       "    <tr>\n",
       "      <th>75%</th>\n",
       "      <td>677.000000</td>\n",
       "      <td>600.000000</td>\n",
       "      <td>5.000000</td>\n",
       "      <td>4.000000</td>\n",
       "    </tr>\n",
       "    <tr>\n",
       "      <th>max</th>\n",
       "      <td>6790.000000</td>\n",
       "      <td>10000.000000</td>\n",
       "      <td>27.000000</td>\n",
       "      <td>27.000000</td>\n",
       "    </tr>\n",
       "  </tbody>\n",
       "</table>\n",
       "</div>"
      ],
      "text/plain": [
       "                LT            LB          JKT          JKM\n",
       "count  1001.000000   1001.000000  1001.000000  1001.000000\n",
       "mean    530.504496    487.275724     4.457542     3.940060\n",
       "std     531.069773    452.872262     2.004606     1.903261\n",
       "min      22.000000     38.000000     1.000000     1.000000\n",
       "25%     220.000000    300.000000     4.000000     3.000000\n",
       "50%     400.000000    411.000000     4.000000     4.000000\n",
       "75%     677.000000    600.000000     5.000000     4.000000\n",
       "max    6790.000000  10000.000000    27.000000    27.000000"
      ]
     },
     "execution_count": 172,
     "metadata": {},
     "output_type": "execute_result"
    }
   ],
   "source": [
    "df.describe()"
   ]
  },
  {
   "cell_type": "markdown",
   "metadata": {},
   "source": [
    "jika diliat pada \n",
    "- LT bahwa memiliki nilai STD > MEAN yang mana berarti sebuah field memiliki nilai yang condong terhadap penyebaran data dari mean\n",
    "\n",
    "- di field lainnya memiliki value yang STD < MEAN yang berarti sebuah field memilii niali yang condong terhadap penyebaran data dari mean\n",
    "\n"
   ]
  },
  {
   "cell_type": "code",
   "execution_count": 173,
   "metadata": {},
   "outputs": [
    {
     "name": "stdout",
     "output_type": "stream",
     "text": [
      "<class 'pandas.core.frame.DataFrame'>\n",
      "RangeIndex: 1001 entries, 0 to 1000\n",
      "Data columns (total 7 columns):\n",
      " #   Column  Non-Null Count  Dtype \n",
      "---  ------  --------------  ----- \n",
      " 0   HARGA   1001 non-null   object\n",
      " 1   LT      1001 non-null   int64 \n",
      " 2   LB      1001 non-null   int64 \n",
      " 3   JKT     1001 non-null   int64 \n",
      " 4   JKM     1001 non-null   int64 \n",
      " 5   GRS     1001 non-null   object\n",
      " 6   KOTA    1001 non-null   object\n",
      "dtypes: int64(4), object(3)\n",
      "memory usage: 54.9+ KB\n"
     ]
    }
   ],
   "source": [
    "# evaluation the info about the df \n",
    "df.info()"
   ]
  },
  {
   "cell_type": "markdown",
   "metadata": {},
   "source": [
    "Thats data have analisis:\n",
    "\n",
    "-> 3 data categorical \n",
    "\n",
    "-> Non missing value"
   ]
  },
  {
   "cell_type": "code",
   "execution_count": 174,
   "metadata": {},
   "outputs": [],
   "source": [
    "# Cleaning data by per issue\n",
    "backup = df.copy()"
   ]
  },
  {
   "cell_type": "code",
   "execution_count": 175,
   "metadata": {},
   "outputs": [],
   "source": [
    "# convert GRS to numerical value\n",
    "df[\"GRS\"] = df[\"GRS\"].astype(np.int64)"
   ]
  },
  {
   "cell_type": "code",
   "execution_count": 176,
   "metadata": {},
   "outputs": [],
   "source": [
    "# convert to Harga to numerical value\n",
    "df[\"HARGA\"]= df[\"HARGA\"].str.replace(',','').astype(np.longlong)"
   ]
  },
  {
   "cell_type": "code",
   "execution_count": 177,
   "metadata": {},
   "outputs": [
    {
     "data": {
      "text/plain": [
       "array(['BADUNG'], dtype=object)"
      ]
     },
     "execution_count": 177,
     "metadata": {},
     "output_type": "execute_result"
    }
   ],
   "source": [
    "# Analisis the Kota filed\n",
    "df['KOTA'].unique()\n",
    "# only have one value"
   ]
  },
  {
   "cell_type": "code",
   "execution_count": 178,
   "metadata": {},
   "outputs": [],
   "source": [
    "# extracting the traing data\n",
    "X = df[[\"LT\",\"LB\",\"JKT\",\"JKM\",\"GRS\",\"KOTA\"]]\n",
    "y = df[\"HARGA\"] "
   ]
  },
  {
   "cell_type": "code",
   "execution_count": 179,
   "metadata": {},
   "outputs": [
    {
     "data": {
      "text/html": [
       "<div>\n",
       "<style scoped>\n",
       "    .dataframe tbody tr th:only-of-type {\n",
       "        vertical-align: middle;\n",
       "    }\n",
       "\n",
       "    .dataframe tbody tr th {\n",
       "        vertical-align: top;\n",
       "    }\n",
       "\n",
       "    .dataframe thead th {\n",
       "        text-align: right;\n",
       "    }\n",
       "</style>\n",
       "<table border=\"1\" class=\"dataframe\">\n",
       "  <thead>\n",
       "    <tr style=\"text-align: right;\">\n",
       "      <th></th>\n",
       "      <th>LT</th>\n",
       "      <th>LB</th>\n",
       "      <th>JKT</th>\n",
       "      <th>JKM</th>\n",
       "      <th>GRS</th>\n",
       "      <th>KOTA</th>\n",
       "    </tr>\n",
       "  </thead>\n",
       "  <tbody>\n",
       "    <tr>\n",
       "      <th>0</th>\n",
       "      <td>1100</td>\n",
       "      <td>700</td>\n",
       "      <td>5</td>\n",
       "      <td>6</td>\n",
       "      <td>1</td>\n",
       "      <td>BADUNG</td>\n",
       "    </tr>\n",
       "    <tr>\n",
       "      <th>1</th>\n",
       "      <td>824</td>\n",
       "      <td>800</td>\n",
       "      <td>4</td>\n",
       "      <td>4</td>\n",
       "      <td>1</td>\n",
       "      <td>BADUNG</td>\n",
       "    </tr>\n",
       "    <tr>\n",
       "      <th>2</th>\n",
       "      <td>500</td>\n",
       "      <td>400</td>\n",
       "      <td>4</td>\n",
       "      <td>3</td>\n",
       "      <td>1</td>\n",
       "      <td>BADUNG</td>\n",
       "    </tr>\n",
       "    <tr>\n",
       "      <th>3</th>\n",
       "      <td>251</td>\n",
       "      <td>300</td>\n",
       "      <td>5</td>\n",
       "      <td>4</td>\n",
       "      <td>1</td>\n",
       "      <td>BADUNG</td>\n",
       "    </tr>\n",
       "    <tr>\n",
       "      <th>4</th>\n",
       "      <td>1340</td>\n",
       "      <td>575</td>\n",
       "      <td>4</td>\n",
       "      <td>5</td>\n",
       "      <td>1</td>\n",
       "      <td>BADUNG</td>\n",
       "    </tr>\n",
       "    <tr>\n",
       "      <th>...</th>\n",
       "      <td>...</td>\n",
       "      <td>...</td>\n",
       "      <td>...</td>\n",
       "      <td>...</td>\n",
       "      <td>...</td>\n",
       "      <td>...</td>\n",
       "    </tr>\n",
       "    <tr>\n",
       "      <th>996</th>\n",
       "      <td>488</td>\n",
       "      <td>550</td>\n",
       "      <td>6</td>\n",
       "      <td>5</td>\n",
       "      <td>1</td>\n",
       "      <td>BADUNG</td>\n",
       "    </tr>\n",
       "    <tr>\n",
       "      <th>997</th>\n",
       "      <td>209</td>\n",
       "      <td>270</td>\n",
       "      <td>4</td>\n",
       "      <td>4</td>\n",
       "      <td>1</td>\n",
       "      <td>BADUNG</td>\n",
       "    </tr>\n",
       "    <tr>\n",
       "      <th>998</th>\n",
       "      <td>692</td>\n",
       "      <td>400</td>\n",
       "      <td>4</td>\n",
       "      <td>3</td>\n",
       "      <td>0</td>\n",
       "      <td>BADUNG</td>\n",
       "    </tr>\n",
       "    <tr>\n",
       "      <th>999</th>\n",
       "      <td>102</td>\n",
       "      <td>140</td>\n",
       "      <td>4</td>\n",
       "      <td>3</td>\n",
       "      <td>0</td>\n",
       "      <td>BADUNG</td>\n",
       "    </tr>\n",
       "    <tr>\n",
       "      <th>1000</th>\n",
       "      <td>63</td>\n",
       "      <td>110</td>\n",
       "      <td>3</td>\n",
       "      <td>3</td>\n",
       "      <td>0</td>\n",
       "      <td>BADUNG</td>\n",
       "    </tr>\n",
       "  </tbody>\n",
       "</table>\n",
       "<p>1001 rows × 6 columns</p>\n",
       "</div>"
      ],
      "text/plain": [
       "        LT   LB  JKT  JKM  GRS    KOTA\n",
       "0     1100  700    5    6    1  BADUNG\n",
       "1      824  800    4    4    1  BADUNG\n",
       "2      500  400    4    3    1  BADUNG\n",
       "3      251  300    5    4    1  BADUNG\n",
       "4     1340  575    4    5    1  BADUNG\n",
       "...    ...  ...  ...  ...  ...     ...\n",
       "996    488  550    6    5    1  BADUNG\n",
       "997    209  270    4    4    1  BADUNG\n",
       "998    692  400    4    3    0  BADUNG\n",
       "999    102  140    4    3    0  BADUNG\n",
       "1000    63  110    3    3    0  BADUNG\n",
       "\n",
       "[1001 rows x 6 columns]"
      ]
     },
     "execution_count": 179,
     "metadata": {},
     "output_type": "execute_result"
    }
   ],
   "source": [
    "# explain the extracting data\n",
    "X"
   ]
  },
  {
   "cell_type": "code",
   "execution_count": 180,
   "metadata": {},
   "outputs": [
    {
     "data": {
      "text/plain": [
       "0       28000000000\n",
       "1       19000000000\n",
       "2        4700000000\n",
       "3        4900000000\n",
       "4       28000000000\n",
       "           ...     \n",
       "996     16000000000\n",
       "997      4500000000\n",
       "998     29000000000\n",
       "999      1700000000\n",
       "1000     1250000000\n",
       "Name: HARGA, Length: 1001, dtype: int64"
      ]
     },
     "execution_count": 180,
     "metadata": {},
     "output_type": "execute_result"
    }
   ],
   "source": [
    "y"
   ]
  },
  {
   "cell_type": "markdown",
   "metadata": {},
   "source": [
    "yg penting shapenya itu sama karena pada train yang mana data train x dengan train y harus punya bobot yang sama ataupun pada data testing"
   ]
  },
  {
   "cell_type": "code",
   "execution_count": 181,
   "metadata": {},
   "outputs": [
    {
     "data": {
      "text/html": [
       "<div>\n",
       "<style scoped>\n",
       "    .dataframe tbody tr th:only-of-type {\n",
       "        vertical-align: middle;\n",
       "    }\n",
       "\n",
       "    .dataframe tbody tr th {\n",
       "        vertical-align: top;\n",
       "    }\n",
       "\n",
       "    .dataframe thead th {\n",
       "        text-align: right;\n",
       "    }\n",
       "</style>\n",
       "<table border=\"1\" class=\"dataframe\">\n",
       "  <thead>\n",
       "    <tr style=\"text-align: right;\">\n",
       "      <th></th>\n",
       "      <th>HARGA</th>\n",
       "      <th>LT</th>\n",
       "      <th>LB</th>\n",
       "      <th>JKT</th>\n",
       "      <th>JKM</th>\n",
       "      <th>GRS</th>\n",
       "      <th>KOTA</th>\n",
       "    </tr>\n",
       "  </thead>\n",
       "  <tbody>\n",
       "    <tr>\n",
       "      <th>0</th>\n",
       "      <td>28000000000</td>\n",
       "      <td>1100</td>\n",
       "      <td>700</td>\n",
       "      <td>5</td>\n",
       "      <td>6</td>\n",
       "      <td>1</td>\n",
       "      <td>BADUNG</td>\n",
       "    </tr>\n",
       "    <tr>\n",
       "      <th>1</th>\n",
       "      <td>19000000000</td>\n",
       "      <td>824</td>\n",
       "      <td>800</td>\n",
       "      <td>4</td>\n",
       "      <td>4</td>\n",
       "      <td>1</td>\n",
       "      <td>BADUNG</td>\n",
       "    </tr>\n",
       "    <tr>\n",
       "      <th>2</th>\n",
       "      <td>4700000000</td>\n",
       "      <td>500</td>\n",
       "      <td>400</td>\n",
       "      <td>4</td>\n",
       "      <td>3</td>\n",
       "      <td>1</td>\n",
       "      <td>BADUNG</td>\n",
       "    </tr>\n",
       "    <tr>\n",
       "      <th>3</th>\n",
       "      <td>4900000000</td>\n",
       "      <td>251</td>\n",
       "      <td>300</td>\n",
       "      <td>5</td>\n",
       "      <td>4</td>\n",
       "      <td>1</td>\n",
       "      <td>BADUNG</td>\n",
       "    </tr>\n",
       "    <tr>\n",
       "      <th>4</th>\n",
       "      <td>28000000000</td>\n",
       "      <td>1340</td>\n",
       "      <td>575</td>\n",
       "      <td>4</td>\n",
       "      <td>5</td>\n",
       "      <td>1</td>\n",
       "      <td>BADUNG</td>\n",
       "    </tr>\n",
       "    <tr>\n",
       "      <th>...</th>\n",
       "      <td>...</td>\n",
       "      <td>...</td>\n",
       "      <td>...</td>\n",
       "      <td>...</td>\n",
       "      <td>...</td>\n",
       "      <td>...</td>\n",
       "      <td>...</td>\n",
       "    </tr>\n",
       "    <tr>\n",
       "      <th>996</th>\n",
       "      <td>16000000000</td>\n",
       "      <td>488</td>\n",
       "      <td>550</td>\n",
       "      <td>6</td>\n",
       "      <td>5</td>\n",
       "      <td>1</td>\n",
       "      <td>BADUNG</td>\n",
       "    </tr>\n",
       "    <tr>\n",
       "      <th>997</th>\n",
       "      <td>4500000000</td>\n",
       "      <td>209</td>\n",
       "      <td>270</td>\n",
       "      <td>4</td>\n",
       "      <td>4</td>\n",
       "      <td>1</td>\n",
       "      <td>BADUNG</td>\n",
       "    </tr>\n",
       "    <tr>\n",
       "      <th>998</th>\n",
       "      <td>29000000000</td>\n",
       "      <td>692</td>\n",
       "      <td>400</td>\n",
       "      <td>4</td>\n",
       "      <td>3</td>\n",
       "      <td>0</td>\n",
       "      <td>BADUNG</td>\n",
       "    </tr>\n",
       "    <tr>\n",
       "      <th>999</th>\n",
       "      <td>1700000000</td>\n",
       "      <td>102</td>\n",
       "      <td>140</td>\n",
       "      <td>4</td>\n",
       "      <td>3</td>\n",
       "      <td>0</td>\n",
       "      <td>BADUNG</td>\n",
       "    </tr>\n",
       "    <tr>\n",
       "      <th>1000</th>\n",
       "      <td>1250000000</td>\n",
       "      <td>63</td>\n",
       "      <td>110</td>\n",
       "      <td>3</td>\n",
       "      <td>3</td>\n",
       "      <td>0</td>\n",
       "      <td>BADUNG</td>\n",
       "    </tr>\n",
       "  </tbody>\n",
       "</table>\n",
       "<p>1001 rows × 7 columns</p>\n",
       "</div>"
      ],
      "text/plain": [
       "            HARGA    LT   LB  JKT  JKM  GRS    KOTA\n",
       "0     28000000000  1100  700    5    6    1  BADUNG\n",
       "1     19000000000   824  800    4    4    1  BADUNG\n",
       "2      4700000000   500  400    4    3    1  BADUNG\n",
       "3      4900000000   251  300    5    4    1  BADUNG\n",
       "4     28000000000  1340  575    4    5    1  BADUNG\n",
       "...           ...   ...  ...  ...  ...  ...     ...\n",
       "996   16000000000   488  550    6    5    1  BADUNG\n",
       "997    4500000000   209  270    4    4    1  BADUNG\n",
       "998   29000000000   692  400    4    3    0  BADUNG\n",
       "999    1700000000   102  140    4    3    0  BADUNG\n",
       "1000   1250000000    63  110    3    3    0  BADUNG\n",
       "\n",
       "[1001 rows x 7 columns]"
      ]
     },
     "execution_count": 181,
     "metadata": {},
     "output_type": "execute_result"
    }
   ],
   "source": [
    "df"
   ]
  },
  {
   "cell_type": "markdown",
   "metadata": {},
   "source": [
    "# Cleaned Data"
   ]
  },
  {
   "cell_type": "code",
   "execution_count": 182,
   "metadata": {},
   "outputs": [],
   "source": [
    "# convert the clan data to the csv\n",
    "df.to_csv(\"Data/Cleaned_House_Data.csv\",index=False)"
   ]
  },
  {
   "cell_type": "code",
   "execution_count": 183,
   "metadata": {},
   "outputs": [
    {
     "name": "stdout",
     "output_type": "stream",
     "text": [
      "<class 'pandas.core.frame.DataFrame'>\n",
      "RangeIndex: 1001 entries, 0 to 1000\n",
      "Data columns (total 7 columns):\n",
      " #   Column  Non-Null Count  Dtype \n",
      "---  ------  --------------  ----- \n",
      " 0   HARGA   1001 non-null   int64 \n",
      " 1   LT      1001 non-null   int64 \n",
      " 2   LB      1001 non-null   int64 \n",
      " 3   JKT     1001 non-null   int64 \n",
      " 4   JKM     1001 non-null   int64 \n",
      " 5   GRS     1001 non-null   int64 \n",
      " 6   KOTA    1001 non-null   object\n",
      "dtypes: int64(6), object(1)\n",
      "memory usage: 54.9+ KB\n"
     ]
    }
   ],
   "source": [
    "df.info()"
   ]
  },
  {
   "cell_type": "code",
   "execution_count": 184,
   "metadata": {},
   "outputs": [
    {
     "data": {
      "text/html": [
       "<div>\n",
       "<style scoped>\n",
       "    .dataframe tbody tr th:only-of-type {\n",
       "        vertical-align: middle;\n",
       "    }\n",
       "\n",
       "    .dataframe tbody tr th {\n",
       "        vertical-align: top;\n",
       "    }\n",
       "\n",
       "    .dataframe thead th {\n",
       "        text-align: right;\n",
       "    }\n",
       "</style>\n",
       "<table border=\"1\" class=\"dataframe\">\n",
       "  <thead>\n",
       "    <tr style=\"text-align: right;\">\n",
       "      <th></th>\n",
       "      <th>HARGA</th>\n",
       "      <th>LT</th>\n",
       "      <th>LB</th>\n",
       "      <th>JKT</th>\n",
       "      <th>JKM</th>\n",
       "      <th>GRS</th>\n",
       "      <th>KOTA</th>\n",
       "    </tr>\n",
       "  </thead>\n",
       "  <tbody>\n",
       "    <tr>\n",
       "      <th>count</th>\n",
       "      <td>1.001000e+03</td>\n",
       "      <td>1001.000000</td>\n",
       "      <td>1001.000000</td>\n",
       "      <td>1001.000000</td>\n",
       "      <td>1001.000000</td>\n",
       "      <td>1001.000000</td>\n",
       "      <td>1001</td>\n",
       "    </tr>\n",
       "    <tr>\n",
       "      <th>unique</th>\n",
       "      <td>NaN</td>\n",
       "      <td>NaN</td>\n",
       "      <td>NaN</td>\n",
       "      <td>NaN</td>\n",
       "      <td>NaN</td>\n",
       "      <td>NaN</td>\n",
       "      <td>1</td>\n",
       "    </tr>\n",
       "    <tr>\n",
       "      <th>top</th>\n",
       "      <td>NaN</td>\n",
       "      <td>NaN</td>\n",
       "      <td>NaN</td>\n",
       "      <td>NaN</td>\n",
       "      <td>NaN</td>\n",
       "      <td>NaN</td>\n",
       "      <td>BADUNG</td>\n",
       "    </tr>\n",
       "    <tr>\n",
       "      <th>freq</th>\n",
       "      <td>NaN</td>\n",
       "      <td>NaN</td>\n",
       "      <td>NaN</td>\n",
       "      <td>NaN</td>\n",
       "      <td>NaN</td>\n",
       "      <td>NaN</td>\n",
       "      <td>1001</td>\n",
       "    </tr>\n",
       "    <tr>\n",
       "      <th>mean</th>\n",
       "      <td>1.747472e+10</td>\n",
       "      <td>530.504496</td>\n",
       "      <td>487.275724</td>\n",
       "      <td>4.457542</td>\n",
       "      <td>3.940060</td>\n",
       "      <td>0.778222</td>\n",
       "      <td>NaN</td>\n",
       "    </tr>\n",
       "    <tr>\n",
       "      <th>std</th>\n",
       "      <td>2.079548e+10</td>\n",
       "      <td>531.069773</td>\n",
       "      <td>452.872262</td>\n",
       "      <td>2.004606</td>\n",
       "      <td>1.903261</td>\n",
       "      <td>0.415650</td>\n",
       "      <td>NaN</td>\n",
       "    </tr>\n",
       "    <tr>\n",
       "      <th>min</th>\n",
       "      <td>4.300000e+08</td>\n",
       "      <td>22.000000</td>\n",
       "      <td>38.000000</td>\n",
       "      <td>1.000000</td>\n",
       "      <td>1.000000</td>\n",
       "      <td>0.000000</td>\n",
       "      <td>NaN</td>\n",
       "    </tr>\n",
       "    <tr>\n",
       "      <th>25%</th>\n",
       "      <td>6.750000e+09</td>\n",
       "      <td>220.000000</td>\n",
       "      <td>300.000000</td>\n",
       "      <td>4.000000</td>\n",
       "      <td>3.000000</td>\n",
       "      <td>1.000000</td>\n",
       "      <td>NaN</td>\n",
       "    </tr>\n",
       "    <tr>\n",
       "      <th>50%</th>\n",
       "      <td>1.350000e+10</td>\n",
       "      <td>400.000000</td>\n",
       "      <td>411.000000</td>\n",
       "      <td>4.000000</td>\n",
       "      <td>4.000000</td>\n",
       "      <td>1.000000</td>\n",
       "      <td>NaN</td>\n",
       "    </tr>\n",
       "    <tr>\n",
       "      <th>75%</th>\n",
       "      <td>2.000000e+10</td>\n",
       "      <td>677.000000</td>\n",
       "      <td>600.000000</td>\n",
       "      <td>5.000000</td>\n",
       "      <td>4.000000</td>\n",
       "      <td>1.000000</td>\n",
       "      <td>NaN</td>\n",
       "    </tr>\n",
       "    <tr>\n",
       "      <th>max</th>\n",
       "      <td>2.500000e+11</td>\n",
       "      <td>6790.000000</td>\n",
       "      <td>10000.000000</td>\n",
       "      <td>27.000000</td>\n",
       "      <td>27.000000</td>\n",
       "      <td>1.000000</td>\n",
       "      <td>NaN</td>\n",
       "    </tr>\n",
       "  </tbody>\n",
       "</table>\n",
       "</div>"
      ],
      "text/plain": [
       "               HARGA           LT            LB          JKT          JKM  \\\n",
       "count   1.001000e+03  1001.000000   1001.000000  1001.000000  1001.000000   \n",
       "unique           NaN          NaN           NaN          NaN          NaN   \n",
       "top              NaN          NaN           NaN          NaN          NaN   \n",
       "freq             NaN          NaN           NaN          NaN          NaN   \n",
       "mean    1.747472e+10   530.504496    487.275724     4.457542     3.940060   \n",
       "std     2.079548e+10   531.069773    452.872262     2.004606     1.903261   \n",
       "min     4.300000e+08    22.000000     38.000000     1.000000     1.000000   \n",
       "25%     6.750000e+09   220.000000    300.000000     4.000000     3.000000   \n",
       "50%     1.350000e+10   400.000000    411.000000     4.000000     4.000000   \n",
       "75%     2.000000e+10   677.000000    600.000000     5.000000     4.000000   \n",
       "max     2.500000e+11  6790.000000  10000.000000    27.000000    27.000000   \n",
       "\n",
       "                GRS    KOTA  \n",
       "count   1001.000000    1001  \n",
       "unique          NaN       1  \n",
       "top             NaN  BADUNG  \n",
       "freq            NaN    1001  \n",
       "mean       0.778222     NaN  \n",
       "std        0.415650     NaN  \n",
       "min        0.000000     NaN  \n",
       "25%        1.000000     NaN  \n",
       "50%        1.000000     NaN  \n",
       "75%        1.000000     NaN  \n",
       "max        1.000000     NaN  "
      ]
     },
     "execution_count": 184,
     "metadata": {},
     "output_type": "execute_result"
    }
   ],
   "source": [
    "df.describe(include='all')"
   ]
  },
  {
   "cell_type": "code",
   "execution_count": 185,
   "metadata": {},
   "outputs": [
    {
     "data": {
      "text/plain": [
       "HARGA    1.000000\n",
       "LT       0.740467\n",
       "LB       0.651660\n",
       "JKM      0.231875\n",
       "JKT      0.217737\n",
       "GRS      0.096788\n",
       "Name: HARGA, dtype: float64"
      ]
     },
     "execution_count": 185,
     "metadata": {},
     "output_type": "execute_result"
    }
   ],
   "source": [
    "corelations=df.corr()\n",
    "corelations[\"HARGA\"].sort_values(ascending=False)"
   ]
  },
  {
   "cell_type": "code",
   "execution_count": 186,
   "metadata": {},
   "outputs": [
    {
     "data": {
      "text/plain": [
       "<AxesSubplot:>"
      ]
     },
     "execution_count": 186,
     "metadata": {},
     "output_type": "execute_result"
    },
    {
     "data": {
      "image/png": "[encoded data removed]",
      "text/plain": [
       "<Figure size 1440x720 with 2 Axes>"
      ]
     },
     "metadata": {
      "needs_background": "light"
     },
     "output_type": "display_data"
    }
   ],
   "source": [
    "import seaborn as sns\n",
    "import matplotlib.pyplot as plt\n",
    "plt.figure(figsize=(20,10))\n",
    "sns.heatmap(corelations,annot=True)"
   ]
  },
  {
   "cell_type": "markdown",
   "metadata": {},
   "source": [
    "Korelasi dari sebuah GRS, JKM, JKT sangat buruk dalam penentuan harga sebuah rumah maka dikarenakan sebuah valuenya mendekati 0 maka dari itu akan di drop"
   ]
  },
  {
   "cell_type": "code",
   "execution_count": 187,
   "metadata": {},
   "outputs": [
    {
     "data": {
      "text/html": [
       "<div>\n",
       "<style scoped>\n",
       "    .dataframe tbody tr th:only-of-type {\n",
       "        vertical-align: middle;\n",
       "    }\n",
       "\n",
       "    .dataframe tbody tr th {\n",
       "        vertical-align: top;\n",
       "    }\n",
       "\n",
       "    .dataframe thead th {\n",
       "        text-align: right;\n",
       "    }\n",
       "</style>\n",
       "<table border=\"1\" class=\"dataframe\">\n",
       "  <thead>\n",
       "    <tr style=\"text-align: right;\">\n",
       "      <th></th>\n",
       "      <th>HARGA</th>\n",
       "      <th>LT</th>\n",
       "      <th>LB</th>\n",
       "      <th>KOTA</th>\n",
       "    </tr>\n",
       "  </thead>\n",
       "  <tbody>\n",
       "    <tr>\n",
       "      <th>0</th>\n",
       "      <td>28000000000</td>\n",
       "      <td>1100</td>\n",
       "      <td>700</td>\n",
       "      <td>BADUNG</td>\n",
       "    </tr>\n",
       "    <tr>\n",
       "      <th>1</th>\n",
       "      <td>19000000000</td>\n",
       "      <td>824</td>\n",
       "      <td>800</td>\n",
       "      <td>BADUNG</td>\n",
       "    </tr>\n",
       "    <tr>\n",
       "      <th>2</th>\n",
       "      <td>4700000000</td>\n",
       "      <td>500</td>\n",
       "      <td>400</td>\n",
       "      <td>BADUNG</td>\n",
       "    </tr>\n",
       "    <tr>\n",
       "      <th>3</th>\n",
       "      <td>4900000000</td>\n",
       "      <td>251</td>\n",
       "      <td>300</td>\n",
       "      <td>BADUNG</td>\n",
       "    </tr>\n",
       "    <tr>\n",
       "      <th>4</th>\n",
       "      <td>28000000000</td>\n",
       "      <td>1340</td>\n",
       "      <td>575</td>\n",
       "      <td>BADUNG</td>\n",
       "    </tr>\n",
       "    <tr>\n",
       "      <th>...</th>\n",
       "      <td>...</td>\n",
       "      <td>...</td>\n",
       "      <td>...</td>\n",
       "      <td>...</td>\n",
       "    </tr>\n",
       "    <tr>\n",
       "      <th>996</th>\n",
       "      <td>16000000000</td>\n",
       "      <td>488</td>\n",
       "      <td>550</td>\n",
       "      <td>BADUNG</td>\n",
       "    </tr>\n",
       "    <tr>\n",
       "      <th>997</th>\n",
       "      <td>4500000000</td>\n",
       "      <td>209</td>\n",
       "      <td>270</td>\n",
       "      <td>BADUNG</td>\n",
       "    </tr>\n",
       "    <tr>\n",
       "      <th>998</th>\n",
       "      <td>29000000000</td>\n",
       "      <td>692</td>\n",
       "      <td>400</td>\n",
       "      <td>BADUNG</td>\n",
       "    </tr>\n",
       "    <tr>\n",
       "      <th>999</th>\n",
       "      <td>1700000000</td>\n",
       "      <td>102</td>\n",
       "      <td>140</td>\n",
       "      <td>BADUNG</td>\n",
       "    </tr>\n",
       "    <tr>\n",
       "      <th>1000</th>\n",
       "      <td>1250000000</td>\n",
       "      <td>63</td>\n",
       "      <td>110</td>\n",
       "      <td>BADUNG</td>\n",
       "    </tr>\n",
       "  </tbody>\n",
       "</table>\n",
       "<p>1001 rows × 4 columns</p>\n",
       "</div>"
      ],
      "text/plain": [
       "            HARGA    LT   LB    KOTA\n",
       "0     28000000000  1100  700  BADUNG\n",
       "1     19000000000   824  800  BADUNG\n",
       "2      4700000000   500  400  BADUNG\n",
       "3      4900000000   251  300  BADUNG\n",
       "4     28000000000  1340  575  BADUNG\n",
       "...           ...   ...  ...     ...\n",
       "996   16000000000   488  550  BADUNG\n",
       "997    4500000000   209  270  BADUNG\n",
       "998   29000000000   692  400  BADUNG\n",
       "999    1700000000   102  140  BADUNG\n",
       "1000   1250000000    63  110  BADUNG\n",
       "\n",
       "[1001 rows x 4 columns]"
      ]
     },
     "execution_count": 187,
     "metadata": {},
     "output_type": "execute_result"
    }
   ],
   "source": [
    "df = df.drop(columns=['JKT','JKM','GRS'],axis=1)\n",
    "df"
   ]
  },
  {
   "cell_type": "code",
   "execution_count": 188,
   "metadata": {},
   "outputs": [],
   "source": [
    "# transform the kota data\n",
    "from sklearn.preprocessing import OneHotEncoder\n",
    "from sklearn.compose import make_column_transformer\n",
    "ohe = OneHotEncoder(sparse='False',handle_unknown='ignore')\n",
    "df['KOTA']=ohe.fit_transform(df['KOTA'].values.reshape(-1,1)).toarray()"
   ]
  },
  {
   "cell_type": "code",
   "execution_count": 189,
   "metadata": {},
   "outputs": [
    {
     "data": {
      "text/html": [
       "<div>\n",
       "<style scoped>\n",
       "    .dataframe tbody tr th:only-of-type {\n",
       "        vertical-align: middle;\n",
       "    }\n",
       "\n",
       "    .dataframe tbody tr th {\n",
       "        vertical-align: top;\n",
       "    }\n",
       "\n",
       "    .dataframe thead th {\n",
       "        text-align: right;\n",
       "    }\n",
       "</style>\n",
       "<table border=\"1\" class=\"dataframe\">\n",
       "  <thead>\n",
       "    <tr style=\"text-align: right;\">\n",
       "      <th></th>\n",
       "      <th>HARGA</th>\n",
       "      <th>LT</th>\n",
       "      <th>LB</th>\n",
       "      <th>KOTA</th>\n",
       "    </tr>\n",
       "  </thead>\n",
       "  <tbody>\n",
       "    <tr>\n",
       "      <th>0</th>\n",
       "      <td>28000000000</td>\n",
       "      <td>1100</td>\n",
       "      <td>700</td>\n",
       "      <td>1.0</td>\n",
       "    </tr>\n",
       "    <tr>\n",
       "      <th>1</th>\n",
       "      <td>19000000000</td>\n",
       "      <td>824</td>\n",
       "      <td>800</td>\n",
       "      <td>1.0</td>\n",
       "    </tr>\n",
       "    <tr>\n",
       "      <th>2</th>\n",
       "      <td>4700000000</td>\n",
       "      <td>500</td>\n",
       "      <td>400</td>\n",
       "      <td>1.0</td>\n",
       "    </tr>\n",
       "    <tr>\n",
       "      <th>3</th>\n",
       "      <td>4900000000</td>\n",
       "      <td>251</td>\n",
       "      <td>300</td>\n",
       "      <td>1.0</td>\n",
       "    </tr>\n",
       "    <tr>\n",
       "      <th>4</th>\n",
       "      <td>28000000000</td>\n",
       "      <td>1340</td>\n",
       "      <td>575</td>\n",
       "      <td>1.0</td>\n",
       "    </tr>\n",
       "    <tr>\n",
       "      <th>...</th>\n",
       "      <td>...</td>\n",
       "      <td>...</td>\n",
       "      <td>...</td>\n",
       "      <td>...</td>\n",
       "    </tr>\n",
       "    <tr>\n",
       "      <th>996</th>\n",
       "      <td>16000000000</td>\n",
       "      <td>488</td>\n",
       "      <td>550</td>\n",
       "      <td>1.0</td>\n",
       "    </tr>\n",
       "    <tr>\n",
       "      <th>997</th>\n",
       "      <td>4500000000</td>\n",
       "      <td>209</td>\n",
       "      <td>270</td>\n",
       "      <td>1.0</td>\n",
       "    </tr>\n",
       "    <tr>\n",
       "      <th>998</th>\n",
       "      <td>29000000000</td>\n",
       "      <td>692</td>\n",
       "      <td>400</td>\n",
       "      <td>1.0</td>\n",
       "    </tr>\n",
       "    <tr>\n",
       "      <th>999</th>\n",
       "      <td>1700000000</td>\n",
       "      <td>102</td>\n",
       "      <td>140</td>\n",
       "      <td>1.0</td>\n",
       "    </tr>\n",
       "    <tr>\n",
       "      <th>1000</th>\n",
       "      <td>1250000000</td>\n",
       "      <td>63</td>\n",
       "      <td>110</td>\n",
       "      <td>1.0</td>\n",
       "    </tr>\n",
       "  </tbody>\n",
       "</table>\n",
       "<p>1001 rows × 4 columns</p>\n",
       "</div>"
      ],
      "text/plain": [
       "            HARGA    LT   LB  KOTA\n",
       "0     28000000000  1100  700   1.0\n",
       "1     19000000000   824  800   1.0\n",
       "2      4700000000   500  400   1.0\n",
       "3      4900000000   251  300   1.0\n",
       "4     28000000000  1340  575   1.0\n",
       "...           ...   ...  ...   ...\n",
       "996   16000000000   488  550   1.0\n",
       "997    4500000000   209  270   1.0\n",
       "998   29000000000   692  400   1.0\n",
       "999    1700000000   102  140   1.0\n",
       "1000   1250000000    63  110   1.0\n",
       "\n",
       "[1001 rows x 4 columns]"
      ]
     },
     "execution_count": 189,
     "metadata": {},
     "output_type": "execute_result"
    }
   ],
   "source": [
    "df"
   ]
  },
  {
   "cell_type": "code",
   "execution_count": 190,
   "metadata": {},
   "outputs": [
    {
     "data": {
      "text/plain": [
       "<AxesSubplot:>"
      ]
     },
     "execution_count": 190,
     "metadata": {},
     "output_type": "execute_result"
    },
    {
     "data": {
      "image/png": "[encoded data removed]",
      "text/plain": [
       "<Figure size 1440x720 with 2 Axes>"
      ]
     },
     "metadata": {
      "needs_background": "light"
     },
     "output_type": "display_data"
    }
   ],
   "source": [
    "import seaborn as sns\n",
    "import matplotlib.pyplot as plt\n",
    "plt.figure(figsize=(20,10))\n",
    "sns.heatmap(df.corr(),annot=True)"
   ]
  },
  {
   "cell_type": "code",
   "execution_count": 191,
   "metadata": {},
   "outputs": [
    {
     "data": {
      "text/plain": [
       "HARGA    1.000000\n",
       "LT       0.740467\n",
       "LB       0.651660\n",
       "KOTA          NaN\n",
       "Name: HARGA, dtype: float64"
      ]
     },
     "execution_count": 191,
     "metadata": {},
     "output_type": "execute_result"
    }
   ],
   "source": [
    "corelations =df.corr()\n",
    "corelations['HARGA'].sort_values(ascending=False)"
   ]
  },
  {
   "cell_type": "code",
   "execution_count": 192,
   "metadata": {},
   "outputs": [
    {
     "data": {
      "text/html": [
       "<div>\n",
       "<style scoped>\n",
       "    .dataframe tbody tr th:only-of-type {\n",
       "        vertical-align: middle;\n",
       "    }\n",
       "\n",
       "    .dataframe tbody tr th {\n",
       "        vertical-align: top;\n",
       "    }\n",
       "\n",
       "    .dataframe thead th {\n",
       "        text-align: right;\n",
       "    }\n",
       "</style>\n",
       "<table border=\"1\" class=\"dataframe\">\n",
       "  <thead>\n",
       "    <tr style=\"text-align: right;\">\n",
       "      <th></th>\n",
       "      <th>HARGA</th>\n",
       "      <th>LT</th>\n",
       "      <th>LB</th>\n",
       "    </tr>\n",
       "  </thead>\n",
       "  <tbody>\n",
       "    <tr>\n",
       "      <th>0</th>\n",
       "      <td>28000000000</td>\n",
       "      <td>1100</td>\n",
       "      <td>700</td>\n",
       "    </tr>\n",
       "    <tr>\n",
       "      <th>1</th>\n",
       "      <td>19000000000</td>\n",
       "      <td>824</td>\n",
       "      <td>800</td>\n",
       "    </tr>\n",
       "    <tr>\n",
       "      <th>2</th>\n",
       "      <td>4700000000</td>\n",
       "      <td>500</td>\n",
       "      <td>400</td>\n",
       "    </tr>\n",
       "    <tr>\n",
       "      <th>3</th>\n",
       "      <td>4900000000</td>\n",
       "      <td>251</td>\n",
       "      <td>300</td>\n",
       "    </tr>\n",
       "    <tr>\n",
       "      <th>4</th>\n",
       "      <td>28000000000</td>\n",
       "      <td>1340</td>\n",
       "      <td>575</td>\n",
       "    </tr>\n",
       "    <tr>\n",
       "      <th>...</th>\n",
       "      <td>...</td>\n",
       "      <td>...</td>\n",
       "      <td>...</td>\n",
       "    </tr>\n",
       "    <tr>\n",
       "      <th>996</th>\n",
       "      <td>16000000000</td>\n",
       "      <td>488</td>\n",
       "      <td>550</td>\n",
       "    </tr>\n",
       "    <tr>\n",
       "      <th>997</th>\n",
       "      <td>4500000000</td>\n",
       "      <td>209</td>\n",
       "      <td>270</td>\n",
       "    </tr>\n",
       "    <tr>\n",
       "      <th>998</th>\n",
       "      <td>29000000000</td>\n",
       "      <td>692</td>\n",
       "      <td>400</td>\n",
       "    </tr>\n",
       "    <tr>\n",
       "      <th>999</th>\n",
       "      <td>1700000000</td>\n",
       "      <td>102</td>\n",
       "      <td>140</td>\n",
       "    </tr>\n",
       "    <tr>\n",
       "      <th>1000</th>\n",
       "      <td>1250000000</td>\n",
       "      <td>63</td>\n",
       "      <td>110</td>\n",
       "    </tr>\n",
       "  </tbody>\n",
       "</table>\n",
       "<p>1001 rows × 3 columns</p>\n",
       "</div>"
      ],
      "text/plain": [
       "            HARGA    LT   LB\n",
       "0     28000000000  1100  700\n",
       "1     19000000000   824  800\n",
       "2      4700000000   500  400\n",
       "3      4900000000   251  300\n",
       "4     28000000000  1340  575\n",
       "...           ...   ...  ...\n",
       "996   16000000000   488  550\n",
       "997    4500000000   209  270\n",
       "998   29000000000   692  400\n",
       "999    1700000000   102  140\n",
       "1000   1250000000    63  110\n",
       "\n",
       "[1001 rows x 3 columns]"
      ]
     },
     "execution_count": 192,
     "metadata": {},
     "output_type": "execute_result"
    }
   ],
   "source": [
    "# omg its be slain too\n",
    "df = df.drop(columns='KOTA',axis=1)\n",
    "df"
   ]
  },
  {
   "cell_type": "code",
   "execution_count": 226,
   "metadata": {},
   "outputs": [],
   "source": [
    "# split the data to train and validation data\n",
    "X = df.drop([\"HARGA\"],axis=1).copy()\n",
    "y = df[\"HARGA\"].copy()\n",
    "from sklearn.model_selection import train_test_split\n",
    "X_train,X_test,y_train,y_test = train_test_split(X,y,test_size=0.2)\n"
   ]
  },
  {
   "cell_type": "code",
   "execution_count": 227,
   "metadata": {},
   "outputs": [
    {
     "name": "stdout",
     "output_type": "stream",
     "text": [
      "(800, 2)\n",
      "(800,)\n"
     ]
    }
   ],
   "source": [
    "print(X_train.shape)\n",
    "print(y_train.shape)"
   ]
  },
  {
   "cell_type": "code",
   "execution_count": 228,
   "metadata": {},
   "outputs": [
    {
     "name": "stdout",
     "output_type": "stream",
     "text": [
      "(201, 2)\n",
      "(201,)\n"
     ]
    }
   ],
   "source": [
    "print(X_test.shape)\n",
    "print(y_test.shape)"
   ]
  },
  {
   "cell_type": "markdown",
   "metadata": {},
   "source": [
    "Alright the data gone be balance"
   ]
  },
  {
   "cell_type": "code",
   "execution_count": 229,
   "metadata": {},
   "outputs": [
    {
     "data": {
      "text/plain": [
       "LinearRegression()"
      ]
     },
     "execution_count": 229,
     "metadata": {},
     "output_type": "execute_result"
    }
   ],
   "source": [
    "from sklearn.linear_model import LinearRegression\n",
    "from sklearn.metrics import r2_score # to know score accuracy like r1 score if use the classification\n",
    "model = LinearRegression()\n",
    "model.fit(X_train,y_train)"
   ]
  },
  {
   "cell_type": "code",
   "execution_count": 230,
   "metadata": {},
   "outputs": [
    {
     "data": {
      "text/plain": [
       "array([1.45743757e+10, 9.07558984e+09, 5.50696012e+09, 1.31444488e+10,\n",
       "       1.71242983e+10, 8.91069913e+09, 2.24770607e+10, 3.25102621e+09,\n",
       "       1.57981342e+10, 3.94294863e+09, 5.76101834e+09, 1.85971525e+10,\n",
       "       8.87296464e+09, 7.20132946e+10, 4.77451267e+09, 2.30887578e+10,\n",
       "       1.76892227e+10, 1.91037155e+10, 1.63038965e+10, 1.23534097e+10,\n",
       "       3.85295637e+09, 1.50054697e+10, 8.61430823e+09, 2.94934116e+10,\n",
       "       9.44905118e+09, 3.97916242e+10, 9.00446483e+09, 1.79407926e+10,\n",
       "       4.72225560e+10, 1.92157779e+10, 1.85880041e+10, 2.30549069e+10,\n",
       "       2.44037597e+10, 1.86561324e+10, 2.22643043e+10, 1.34400389e+10,\n",
       "       1.61775410e+10, 6.25667336e+09, 8.84574976e+09, 2.81478749e+09,\n",
       "       4.67068446e+10, 6.23266141e+09, 1.72452789e+10, 8.77483094e+09,\n",
       "       6.15042224e+09, 1.76229020e+10, 2.13643817e+10, 1.87858250e+10,\n",
       "       1.64138970e+10, 4.77391813e+09, 1.66749556e+10, 1.34308906e+10,\n",
       "       1.42278990e+10, 1.76892227e+10, 1.72284015e+10, 1.93615712e+10,\n",
       "       8.21820619e+09, 4.63889541e+10, 1.30834790e+10, 2.95820326e+10,\n",
       "       3.78263210e+09, 4.49660066e+09, 2.85774745e+10, 1.70128545e+10,\n",
       "       7.94719850e+09, 9.48916385e+09, 7.03561531e+09, 7.60792840e+09,\n",
       "       2.43740325e+10, 1.66749556e+10, 2.84151061e+10, 1.49168487e+10,\n",
       "       1.21865532e+10, 3.69721402e+09, 3.81243133e+09, 6.28011479e+09,\n",
       "       2.35730204e+10, 7.98219048e+09, 1.94553369e+10, 7.76157952e+10,\n",
       "       7.97882940e+09, 5.74096200e+09, 3.57391202e+10, 2.08890404e+09,\n",
       "       8.18401495e+09, 2.65866749e+10, 3.13309912e+10, 8.78809308e+09,\n",
       "       6.96231831e+09, 8.39558232e+09, 5.10972574e+10, 4.84264094e+09,\n",
       "       8.77483094e+09, 2.74591523e+10, 2.24398247e+10, 1.87858250e+10,\n",
       "       8.18321422e+09, 2.21602491e+10, 8.67628488e+09, 5.50365579e+10,\n",
       "       7.03538510e+09, 9.03190991e+09, 3.72210747e+10, 1.30272416e+10,\n",
       "       5.63370397e+09, 1.72661360e+10, 2.03824774e+09, 1.31261520e+10,\n",
       "       2.79319124e+10, 1.65251587e+10, 2.52084352e+10, 2.77313011e+10,\n",
       "       2.97695640e+10, 1.04335910e+10, 5.22188957e+09, 2.27136950e+10,\n",
       "       2.60381466e+09, 2.29348711e+10, 7.72947951e+09, 2.38951349e+10,\n",
       "       2.31318703e+09, 1.36510118e+10, 4.99148768e+10, 2.35495790e+10,\n",
       "       2.11219602e+10, 1.23891784e+10, 8.23924543e+09, 7.72970971e+09,\n",
       "       6.91840818e+09, 2.12889128e+10, 6.89336529e+09, 1.31444488e+10,\n",
       "       1.49168487e+10, 1.95795204e+10, 1.21883129e+10, 3.09101866e+10,\n",
       "       3.18070194e+09, 1.91037155e+10, 1.81254614e+10, 1.17937402e+10,\n",
       "       1.36704495e+10, 4.82560646e+10, 9.23510564e+09, 1.43685476e+10,\n",
       "       3.21505923e+10, 8.87296464e+09, 1.88627884e+09, 6.23620466e+09,\n",
       "       1.54218103e+10, 1.63284789e+10, 1.28381088e+10, 1.76892227e+10,\n",
       "       1.17236702e+10, 1.21507605e+10, 1.76773318e+10, 4.22272503e+10,\n",
       "       1.02417157e+10, 4.59256237e+09, 1.08471891e+10, 6.07861370e+10,\n",
       "       8.07595618e+09, 1.44154304e+10, 8.67628488e+09, 2.70632805e+10,\n",
       "       1.43170905e+10, 8.46931570e+09, 6.64145505e+09, 1.49168487e+10,\n",
       "       3.18375542e+10, 9.75378971e+09, 5.35160613e+09, 4.57803910e+09,\n",
       "       3.15768359e+10, 1.77726990e+10, 1.47619071e+10, 1.13303106e+10,\n",
       "       3.35691299e+09, 1.34308906e+10, 4.39070256e+10, 2.24975775e+10,\n",
       "       6.08622557e+09, 2.27136950e+10, 1.13302866e+10, 1.56941892e+10,\n",
       "       2.99713885e+10, 4.72928803e+10, 1.28723000e+10, 1.76188984e+10,\n",
       "       6.61369236e+10, 2.16536861e+10, 2.37920006e+10, 8.61270677e+09,\n",
       "       1.85741715e+10, 2.33231721e+10, 1.07105442e+10, 1.18180064e+10,\n",
       "       3.32063052e+10, 1.73038705e+10, 1.19203499e+10, 2.71624211e+10,\n",
       "       1.09464878e+10])"
      ]
     },
     "execution_count": 230,
     "metadata": {},
     "output_type": "execute_result"
    }
   ],
   "source": [
    "y_pred = model.predict(X_test)\n",
    "y_pred"
   ]
  },
  {
   "cell_type": "code",
   "execution_count": 231,
   "metadata": {},
   "outputs": [
    {
     "data": {
      "text/plain": [
       "array([ 17900000000,   8000000000,   5900000000,  17500000000,\n",
       "        19750000000,   7300000000,  25000000000,   3000000000,\n",
       "        15000000000,   1930000000,   5800000000,  26000000000,\n",
       "         8500000000,  55000000000,   4300000000,  85000000000,\n",
       "        13000000000,  18000000000,   4500000000,   6800000000,\n",
       "         3250000000,   9000000000,   8500000000,  43000000000,\n",
       "         9000000000,  85000000000,   5000000000,  28000000000,\n",
       "        55000000000,  14500000000,  16000000000,  20000000000,\n",
       "        20000000000,  23000000000,  27000000000,   8000000000,\n",
       "         3700000000,  10000000000,   9500000000,   1300000000,\n",
       "        55000000000,   1700000000,  17640000000,   9550000000,\n",
       "         4000000000,  20000000000,  60000000000,  10500000000,\n",
       "        22000000000,   2400000000,  17500000000,  19000000000,\n",
       "        17000000000,  14000000000,  19000000000,   9900000000,\n",
       "         7000000000,  47000000000,  10500000000,  26500000000,\n",
       "         1700000000,   5300000000,  37500000000,  35500000000,\n",
       "         6250000000,  13000000000,   6500000000,   4500000000,\n",
       "        25000000000,  17500000000,  17500000000,  18500000000,\n",
       "         8500000000,   2570000000,   3600000000,   4750000000,\n",
       "        14000000000,   9500000000,  13500000000,  38000000000,\n",
       "         8500000000,   4500000000,  38000000000,   1200000000,\n",
       "         6100000000,  24500000000,  25000000000,   9530000000,\n",
       "         1600000000,   7900000000,  18000000000,   5400000000,\n",
       "         9550000000,  19000000000,  45000000000,  10500000000,\n",
       "         7500000000,  25000000000,  10500000000,  39500000000,\n",
       "         7500000000,   5000000000,  35000000000,   7000000000,\n",
       "         5700000000,  15000000000,   1230000000,  30000000000,\n",
       "        21000000000,  28000000000,  16000000000,  17700000000,\n",
       "        15500000000,  13500000000,   5800000000,  22600000000,\n",
       "         1350000000,  17000000000,   8750000000,  24000000000,\n",
       "          670000000,  17000000000, 110000000000,  27000000000,\n",
       "        68000000000,  11500000000,   6500000000,   7730000000,\n",
       "         5000000000,  23000000000,   5000000000,   6900000000,\n",
       "        19500000000,  18000000000,  11750000000,  34500000000,\n",
       "         1350000000,  12000000000,  13000000000,  13000000000,\n",
       "        32000000000,  27000000000,  11200000000,  15000000000,\n",
       "        25500000000,   7800000000,    679000000,   5150000000,\n",
       "        17500000000,   9500000000,   9500000000,  14000000000,\n",
       "         8000000000,  14500000000,  18900000000,  40000000000,\n",
       "         5300000000,   3500000000,  15000000000,  60000000000,\n",
       "        15500000000,  15000000000,  10500000000,  20980000000,\n",
       "        13500000000,   4800000000,   5800000000,  18500000000,\n",
       "        15500000000,   6800000000,   5000000000,   2200000000,\n",
       "        19000000000,  17000000000,  30000000000,  18000000000,\n",
       "         1300000000,  19000000000, 180000000000,  21500000000,\n",
       "         5600000000,  20900000000,  11900000000,  18600000000,\n",
       "        21000000000,  60000000000,   6500000000,  14000000000,\n",
       "        42000000000,  23000000000,  21600000000,   7800000000,\n",
       "        15000000000,  14000000000,  14000000000,  17000000000,\n",
       "        21000000000,  15500000000,  10500000000,  25000000000,\n",
       "        11510000000], dtype=int64)"
      ]
     },
     "execution_count": 231,
     "metadata": {},
     "output_type": "execute_result"
    }
   ],
   "source": [
    "y_test.values"
   ]
  },
  {
   "cell_type": "code",
   "execution_count": 232,
   "metadata": {},
   "outputs": [
    {
     "data": {
      "text/plain": [
       "0.45035492755707895"
      ]
     },
     "execution_count": 232,
     "metadata": {},
     "output_type": "execute_result"
    }
   ],
   "source": [
    "# omg we have problem to miss the predict hemmm be coreect will check\n",
    "from sklearn.metrics import r2_score\n",
    "r2_score(y_test,y_pred)"
   ]
  },
  {
   "cell_type": "markdown",
   "metadata": {},
   "source": [
    "so bad values\n",
    "\n",
    "But this can be batch gradient descant to use the change SVD algorithm"
   ]
  },
  {
   "cell_type": "code",
   "execution_count": 235,
   "metadata": {},
   "outputs": [
    {
     "data": {
      "text/plain": [
       "262"
      ]
     },
     "execution_count": 235,
     "metadata": {},
     "output_type": "execute_result"
    }
   ],
   "source": [
    "scores=[]\n",
    "for i in range(10000):\n",
    "    X_train,X_test,y_train,y_test = train_test_split(X,y,test_size=0.2,random_state=i)\n",
    "    model = LinearRegression()\n",
    "    model.fit(X_train,y_train)\n",
    "    y_pred = model.predict(X_test)\n",
    "    scores.append(r2_score(y_test,y_pred))\n",
    "np.argmax(scores)"
   ]
  },
  {
   "cell_type": "markdown",
   "metadata": {},
   "source": [
    "we have the maximum value r2 scores on the random state 262, will be make the value constant my friends"
   ]
  },
  {
   "cell_type": "code",
   "execution_count": 236,
   "metadata": {},
   "outputs": [
    {
     "data": {
      "text/plain": [
       "0.8553685207115741"
      ]
     },
     "execution_count": 236,
     "metadata": {},
     "output_type": "execute_result"
    }
   ],
   "source": [
    "scores[np.argmax(scores)]"
   ]
  },
  {
   "cell_type": "code",
   "execution_count": 243,
   "metadata": {},
   "outputs": [],
   "source": [
    "import pickle\n",
    "pickle\n",
    "pickle.dump(model,open('LinearRegressionModel.pkl','wb'))"
   ]
  }
 ],
 "metadata": {
  "interpreter": {
   "hash": "0110754e08e3ec9c7462c40e2a13327d5f67bb9932a69018b8d11dd952b7ffb9"
  },
  "kernelspec": {
   "display_name": "Python 3.9.9 ('env': venv)",
   "language": "python",
   "name": "python3"
  },
  "language_info": {
   "codemirror_mode": {
    "name": "ipython",
    "version": 3
   },
   "file_extension": ".py",
   "mimetype": "text/x-python",
   "name": "python",
   "nbconvert_exporter": "python",
   "pygments_lexer": "ipython3",
   "version": "3.9.9"
  },
  "orig_nbformat": 4
 },
 "nbformat": 4,
 "nbformat_minor": 2
}
