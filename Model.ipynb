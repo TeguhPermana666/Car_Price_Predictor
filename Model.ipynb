{
 "cells": [
  {
   "cell_type": "code",
   "execution_count": 1,
   "metadata": {},
   "outputs": [],
   "source": [
    "import pandas as pd\n",
    "import numpy as np"
   ]
  },
  {
   "cell_type": "code",
   "execution_count": 2,
   "metadata": {},
   "outputs": [],
   "source": [
    "df= pd.read_csv(\"Data\\HARGA RUMAH BADUNG RUMAH 123.csv\")"
   ]
  },
  {
   "cell_type": "code",
   "execution_count": 3,
   "metadata": {},
   "outputs": [
    {
     "data": {
      "text/plain": [
       "Index(['HARGA', 'LT', 'LB', 'JKT', 'JKM', 'GRS', 'KOTA'], dtype='object')"
      ]
     },
     "execution_count": 3,
     "metadata": {},
     "output_type": "execute_result"
    }
   ],
   "source": [
    "df.columns"
   ]
  },
  {
   "cell_type": "code",
   "execution_count": 4,
   "metadata": {},
   "outputs": [
    {
     "name": "stdout",
     "output_type": "stream",
     "text": [
      "<class 'pandas.core.frame.DataFrame'>\n",
      "RangeIndex: 1001 entries, 0 to 1000\n",
      "Data columns (total 7 columns):\n",
      " #   Column  Non-Null Count  Dtype \n",
      "---  ------  --------------  ----- \n",
      " 0   HARGA   1001 non-null   object\n",
      " 1   LT      1001 non-null   int64 \n",
      " 2   LB      1001 non-null   int64 \n",
      " 3   JKT     1001 non-null   int64 \n",
      " 4   JKM     1001 non-null   int64 \n",
      " 5   GRS     1001 non-null   object\n",
      " 6   KOTA    1001 non-null   object\n",
      "dtypes: int64(4), object(3)\n",
      "memory usage: 54.9+ KB\n"
     ]
    }
   ],
   "source": [
    "df.info()"
   ]
  },
  {
   "cell_type": "code",
   "execution_count": 5,
   "metadata": {},
   "outputs": [
    {
     "data": {
      "text/html": [
       "<div>\n",
       "<style scoped>\n",
       "    .dataframe tbody tr th:only-of-type {\n",
       "        vertical-align: middle;\n",
       "    }\n",
       "\n",
       "    .dataframe tbody tr th {\n",
       "        vertical-align: top;\n",
       "    }\n",
       "\n",
       "    .dataframe thead th {\n",
       "        text-align: right;\n",
       "    }\n",
       "</style>\n",
       "<table border=\"1\" class=\"dataframe\">\n",
       "  <thead>\n",
       "    <tr style=\"text-align: right;\">\n",
       "      <th></th>\n",
       "      <th>HARGA</th>\n",
       "      <th>LT</th>\n",
       "      <th>LB</th>\n",
       "      <th>JKT</th>\n",
       "      <th>JKM</th>\n",
       "      <th>GRS</th>\n",
       "      <th>KOTA</th>\n",
       "    </tr>\n",
       "  </thead>\n",
       "  <tbody>\n",
       "    <tr>\n",
       "      <th>0</th>\n",
       "      <td>28,000,000,000</td>\n",
       "      <td>1100</td>\n",
       "      <td>700</td>\n",
       "      <td>5</td>\n",
       "      <td>6</td>\n",
       "      <td>ADA</td>\n",
       "      <td>BADUNG</td>\n",
       "    </tr>\n",
       "    <tr>\n",
       "      <th>1</th>\n",
       "      <td>19,000,000,000</td>\n",
       "      <td>824</td>\n",
       "      <td>800</td>\n",
       "      <td>4</td>\n",
       "      <td>4</td>\n",
       "      <td>ADA</td>\n",
       "      <td>BADUNG</td>\n",
       "    </tr>\n",
       "    <tr>\n",
       "      <th>2</th>\n",
       "      <td>4,700,000,000</td>\n",
       "      <td>500</td>\n",
       "      <td>400</td>\n",
       "      <td>4</td>\n",
       "      <td>3</td>\n",
       "      <td>ADA</td>\n",
       "      <td>BADUNG</td>\n",
       "    </tr>\n",
       "    <tr>\n",
       "      <th>3</th>\n",
       "      <td>4,900,000,000</td>\n",
       "      <td>251</td>\n",
       "      <td>300</td>\n",
       "      <td>5</td>\n",
       "      <td>4</td>\n",
       "      <td>ADA</td>\n",
       "      <td>BADUNG</td>\n",
       "    </tr>\n",
       "    <tr>\n",
       "      <th>4</th>\n",
       "      <td>28,000,000,000</td>\n",
       "      <td>1340</td>\n",
       "      <td>575</td>\n",
       "      <td>4</td>\n",
       "      <td>5</td>\n",
       "      <td>ADA</td>\n",
       "      <td>BADUNG</td>\n",
       "    </tr>\n",
       "    <tr>\n",
       "      <th>...</th>\n",
       "      <td>...</td>\n",
       "      <td>...</td>\n",
       "      <td>...</td>\n",
       "      <td>...</td>\n",
       "      <td>...</td>\n",
       "      <td>...</td>\n",
       "      <td>...</td>\n",
       "    </tr>\n",
       "    <tr>\n",
       "      <th>996</th>\n",
       "      <td>16,000,000,000</td>\n",
       "      <td>488</td>\n",
       "      <td>550</td>\n",
       "      <td>6</td>\n",
       "      <td>5</td>\n",
       "      <td>ADA</td>\n",
       "      <td>BADUNG</td>\n",
       "    </tr>\n",
       "    <tr>\n",
       "      <th>997</th>\n",
       "      <td>4,500,000,000</td>\n",
       "      <td>209</td>\n",
       "      <td>270</td>\n",
       "      <td>4</td>\n",
       "      <td>4</td>\n",
       "      <td>ADA</td>\n",
       "      <td>BADUNG</td>\n",
       "    </tr>\n",
       "    <tr>\n",
       "      <th>998</th>\n",
       "      <td>29,000,000,000</td>\n",
       "      <td>692</td>\n",
       "      <td>400</td>\n",
       "      <td>4</td>\n",
       "      <td>3</td>\n",
       "      <td>TIDAK ADA</td>\n",
       "      <td>BADUNG</td>\n",
       "    </tr>\n",
       "    <tr>\n",
       "      <th>999</th>\n",
       "      <td>1,700,000,000</td>\n",
       "      <td>102</td>\n",
       "      <td>140</td>\n",
       "      <td>4</td>\n",
       "      <td>3</td>\n",
       "      <td>TIDAK ADA</td>\n",
       "      <td>BADUNG</td>\n",
       "    </tr>\n",
       "    <tr>\n",
       "      <th>1000</th>\n",
       "      <td>1,250,000,000</td>\n",
       "      <td>63</td>\n",
       "      <td>110</td>\n",
       "      <td>3</td>\n",
       "      <td>3</td>\n",
       "      <td>TIDAK ADA</td>\n",
       "      <td>BADUNG</td>\n",
       "    </tr>\n",
       "  </tbody>\n",
       "</table>\n",
       "<p>1001 rows × 7 columns</p>\n",
       "</div>"
      ],
      "text/plain": [
       "               HARGA    LT   LB  JKT  JKM        GRS    KOTA\n",
       "0     28,000,000,000  1100  700    5    6        ADA  BADUNG\n",
       "1     19,000,000,000   824  800    4    4        ADA  BADUNG\n",
       "2      4,700,000,000   500  400    4    3        ADA  BADUNG\n",
       "3      4,900,000,000   251  300    5    4        ADA  BADUNG\n",
       "4     28,000,000,000  1340  575    4    5        ADA  BADUNG\n",
       "...              ...   ...  ...  ...  ...        ...     ...\n",
       "996   16,000,000,000   488  550    6    5        ADA  BADUNG\n",
       "997    4,500,000,000   209  270    4    4        ADA  BADUNG\n",
       "998   29,000,000,000   692  400    4    3  TIDAK ADA  BADUNG\n",
       "999    1,700,000,000   102  140    4    3  TIDAK ADA  BADUNG\n",
       "1000   1,250,000,000    63  110    3    3  TIDAK ADA  BADUNG\n",
       "\n",
       "[1001 rows x 7 columns]"
      ]
     },
     "execution_count": 5,
     "metadata": {},
     "output_type": "execute_result"
    }
   ],
   "source": [
    "df"
   ]
  },
  {
   "cell_type": "code",
   "execution_count": 6,
   "metadata": {},
   "outputs": [],
   "source": [
    "df.loc[(df[\"GRS\"]==\"ADA\"),[\"GRS\"]]=1\n",
    "df.loc[(df[\"GRS\"]==\"TIDAK ADA\"),[\"GRS\"]]=0"
   ]
  },
  {
   "cell_type": "code",
   "execution_count": 7,
   "metadata": {},
   "outputs": [
    {
     "data": {
      "text/html": [
       "<div>\n",
       "<style scoped>\n",
       "    .dataframe tbody tr th:only-of-type {\n",
       "        vertical-align: middle;\n",
       "    }\n",
       "\n",
       "    .dataframe tbody tr th {\n",
       "        vertical-align: top;\n",
       "    }\n",
       "\n",
       "    .dataframe thead th {\n",
       "        text-align: right;\n",
       "    }\n",
       "</style>\n",
       "<table border=\"1\" class=\"dataframe\">\n",
       "  <thead>\n",
       "    <tr style=\"text-align: right;\">\n",
       "      <th></th>\n",
       "      <th>GRS</th>\n",
       "    </tr>\n",
       "  </thead>\n",
       "  <tbody>\n",
       "    <tr>\n",
       "      <th>8</th>\n",
       "      <td>0</td>\n",
       "    </tr>\n",
       "    <tr>\n",
       "      <th>9</th>\n",
       "      <td>0</td>\n",
       "    </tr>\n",
       "    <tr>\n",
       "      <th>29</th>\n",
       "      <td>0</td>\n",
       "    </tr>\n",
       "    <tr>\n",
       "      <th>66</th>\n",
       "      <td>0</td>\n",
       "    </tr>\n",
       "    <tr>\n",
       "      <th>80</th>\n",
       "      <td>0</td>\n",
       "    </tr>\n",
       "    <tr>\n",
       "      <th>...</th>\n",
       "      <td>...</td>\n",
       "    </tr>\n",
       "    <tr>\n",
       "      <th>984</th>\n",
       "      <td>0</td>\n",
       "    </tr>\n",
       "    <tr>\n",
       "      <th>992</th>\n",
       "      <td>0</td>\n",
       "    </tr>\n",
       "    <tr>\n",
       "      <th>998</th>\n",
       "      <td>0</td>\n",
       "    </tr>\n",
       "    <tr>\n",
       "      <th>999</th>\n",
       "      <td>0</td>\n",
       "    </tr>\n",
       "    <tr>\n",
       "      <th>1000</th>\n",
       "      <td>0</td>\n",
       "    </tr>\n",
       "  </tbody>\n",
       "</table>\n",
       "<p>222 rows × 1 columns</p>\n",
       "</div>"
      ],
      "text/plain": [
       "     GRS\n",
       "8      0\n",
       "9      0\n",
       "29     0\n",
       "66     0\n",
       "80     0\n",
       "...   ..\n",
       "984    0\n",
       "992    0\n",
       "998    0\n",
       "999    0\n",
       "1000   0\n",
       "\n",
       "[222 rows x 1 columns]"
      ]
     },
     "execution_count": 7,
     "metadata": {},
     "output_type": "execute_result"
    }
   ],
   "source": [
    "df.loc[(df[\"GRS\"]==0),[\"GRS\"]]"
   ]
  },
  {
   "cell_type": "code",
   "execution_count": 8,
   "metadata": {},
   "outputs": [
    {
     "data": {
      "text/html": [
       "<div>\n",
       "<style scoped>\n",
       "    .dataframe tbody tr th:only-of-type {\n",
       "        vertical-align: middle;\n",
       "    }\n",
       "\n",
       "    .dataframe tbody tr th {\n",
       "        vertical-align: top;\n",
       "    }\n",
       "\n",
       "    .dataframe thead th {\n",
       "        text-align: right;\n",
       "    }\n",
       "</style>\n",
       "<table border=\"1\" class=\"dataframe\">\n",
       "  <thead>\n",
       "    <tr style=\"text-align: right;\">\n",
       "      <th></th>\n",
       "      <th>LT</th>\n",
       "      <th>LB</th>\n",
       "      <th>JKT</th>\n",
       "      <th>JKM</th>\n",
       "    </tr>\n",
       "  </thead>\n",
       "  <tbody>\n",
       "    <tr>\n",
       "      <th>count</th>\n",
       "      <td>1001.000000</td>\n",
       "      <td>1001.000000</td>\n",
       "      <td>1001.000000</td>\n",
       "      <td>1001.000000</td>\n",
       "    </tr>\n",
       "    <tr>\n",
       "      <th>mean</th>\n",
       "      <td>530.504496</td>\n",
       "      <td>487.275724</td>\n",
       "      <td>4.457542</td>\n",
       "      <td>3.940060</td>\n",
       "    </tr>\n",
       "    <tr>\n",
       "      <th>std</th>\n",
       "      <td>531.069773</td>\n",
       "      <td>452.872262</td>\n",
       "      <td>2.004606</td>\n",
       "      <td>1.903261</td>\n",
       "    </tr>\n",
       "    <tr>\n",
       "      <th>min</th>\n",
       "      <td>22.000000</td>\n",
       "      <td>38.000000</td>\n",
       "      <td>1.000000</td>\n",
       "      <td>1.000000</td>\n",
       "    </tr>\n",
       "    <tr>\n",
       "      <th>25%</th>\n",
       "      <td>220.000000</td>\n",
       "      <td>300.000000</td>\n",
       "      <td>4.000000</td>\n",
       "      <td>3.000000</td>\n",
       "    </tr>\n",
       "    <tr>\n",
       "      <th>50%</th>\n",
       "      <td>400.000000</td>\n",
       "      <td>411.000000</td>\n",
       "      <td>4.000000</td>\n",
       "      <td>4.000000</td>\n",
       "    </tr>\n",
       "    <tr>\n",
       "      <th>75%</th>\n",
       "      <td>677.000000</td>\n",
       "      <td>600.000000</td>\n",
       "      <td>5.000000</td>\n",
       "      <td>4.000000</td>\n",
       "    </tr>\n",
       "    <tr>\n",
       "      <th>max</th>\n",
       "      <td>6790.000000</td>\n",
       "      <td>10000.000000</td>\n",
       "      <td>27.000000</td>\n",
       "      <td>27.000000</td>\n",
       "    </tr>\n",
       "  </tbody>\n",
       "</table>\n",
       "</div>"
      ],
      "text/plain": [
       "                LT            LB          JKT          JKM\n",
       "count  1001.000000   1001.000000  1001.000000  1001.000000\n",
       "mean    530.504496    487.275724     4.457542     3.940060\n",
       "std     531.069773    452.872262     2.004606     1.903261\n",
       "min      22.000000     38.000000     1.000000     1.000000\n",
       "25%     220.000000    300.000000     4.000000     3.000000\n",
       "50%     400.000000    411.000000     4.000000     4.000000\n",
       "75%     677.000000    600.000000     5.000000     4.000000\n",
       "max    6790.000000  10000.000000    27.000000    27.000000"
      ]
     },
     "execution_count": 8,
     "metadata": {},
     "output_type": "execute_result"
    }
   ],
   "source": [
    "df.describe()"
   ]
  },
  {
   "cell_type": "markdown",
   "metadata": {},
   "source": [
    "jika diliat pada \n",
    "- LT bahwa memiliki nilai STD > MEAN yang mana berarti sebuah field memiliki nilai yang condong terhadap penyebaran data dari mean\n",
    "\n",
    "- di field lainnya memiliki value yang STD < MEAN yang berarti sebuah field memilii niali yang condong terhadap penyebaran data dari mean\n",
    "\n"
   ]
  },
  {
   "cell_type": "code",
   "execution_count": 9,
   "metadata": {},
   "outputs": [
    {
     "name": "stdout",
     "output_type": "stream",
     "text": [
      "<class 'pandas.core.frame.DataFrame'>\n",
      "RangeIndex: 1001 entries, 0 to 1000\n",
      "Data columns (total 7 columns):\n",
      " #   Column  Non-Null Count  Dtype \n",
      "---  ------  --------------  ----- \n",
      " 0   HARGA   1001 non-null   object\n",
      " 1   LT      1001 non-null   int64 \n",
      " 2   LB      1001 non-null   int64 \n",
      " 3   JKT     1001 non-null   int64 \n",
      " 4   JKM     1001 non-null   int64 \n",
      " 5   GRS     1001 non-null   object\n",
      " 6   KOTA    1001 non-null   object\n",
      "dtypes: int64(4), object(3)\n",
      "memory usage: 54.9+ KB\n"
     ]
    }
   ],
   "source": [
    "# evaluation the info about the df \n",
    "df.info()"
   ]
  },
  {
   "cell_type": "markdown",
   "metadata": {},
   "source": [
    "Thats data have analisis:\n",
    "\n",
    "-> 3 data categorical \n",
    "\n",
    "-> Non missing value"
   ]
  },
  {
   "cell_type": "code",
   "execution_count": 10,
   "metadata": {},
   "outputs": [],
   "source": [
    "# Cleaning data by per issue\n",
    "backup = df.copy()"
   ]
  },
  {
   "cell_type": "code",
   "execution_count": 11,
   "metadata": {},
   "outputs": [],
   "source": [
    "# convert GRS to numerical value\n",
    "df[\"GRS\"] = df[\"GRS\"].astype(np.int64)"
   ]
  },
  {
   "cell_type": "code",
   "execution_count": 12,
   "metadata": {},
   "outputs": [],
   "source": [
    "# convert to Harga to numerical value\n",
    "df[\"HARGA\"]= df[\"HARGA\"].str.replace(',','').astype(np.longlong)"
   ]
  },
  {
   "cell_type": "code",
   "execution_count": 13,
   "metadata": {},
   "outputs": [
    {
     "data": {
      "text/plain": [
       "array(['BADUNG'], dtype=object)"
      ]
     },
     "execution_count": 13,
     "metadata": {},
     "output_type": "execute_result"
    }
   ],
   "source": [
    "# Analisis the Kota filed\n",
    "df['KOTA'].unique()\n",
    "# only have one value"
   ]
  },
  {
   "cell_type": "code",
   "execution_count": 14,
   "metadata": {},
   "outputs": [],
   "source": [
    "# extracting the traing data\n",
    "X = df[[\"LT\",\"LB\",\"JKT\",\"JKM\",\"GRS\",\"KOTA\"]]\n",
    "y = df[\"HARGA\"] "
   ]
  },
  {
   "cell_type": "code",
   "execution_count": 15,
   "metadata": {},
   "outputs": [
    {
     "data": {
      "text/html": [
       "<div>\n",
       "<style scoped>\n",
       "    .dataframe tbody tr th:only-of-type {\n",
       "        vertical-align: middle;\n",
       "    }\n",
       "\n",
       "    .dataframe tbody tr th {\n",
       "        vertical-align: top;\n",
       "    }\n",
       "\n",
       "    .dataframe thead th {\n",
       "        text-align: right;\n",
       "    }\n",
       "</style>\n",
       "<table border=\"1\" class=\"dataframe\">\n",
       "  <thead>\n",
       "    <tr style=\"text-align: right;\">\n",
       "      <th></th>\n",
       "      <th>LT</th>\n",
       "      <th>LB</th>\n",
       "      <th>JKT</th>\n",
       "      <th>JKM</th>\n",
       "      <th>GRS</th>\n",
       "      <th>KOTA</th>\n",
       "    </tr>\n",
       "  </thead>\n",
       "  <tbody>\n",
       "    <tr>\n",
       "      <th>0</th>\n",
       "      <td>1100</td>\n",
       "      <td>700</td>\n",
       "      <td>5</td>\n",
       "      <td>6</td>\n",
       "      <td>1</td>\n",
       "      <td>BADUNG</td>\n",
       "    </tr>\n",
       "    <tr>\n",
       "      <th>1</th>\n",
       "      <td>824</td>\n",
       "      <td>800</td>\n",
       "      <td>4</td>\n",
       "      <td>4</td>\n",
       "      <td>1</td>\n",
       "      <td>BADUNG</td>\n",
       "    </tr>\n",
       "    <tr>\n",
       "      <th>2</th>\n",
       "      <td>500</td>\n",
       "      <td>400</td>\n",
       "      <td>4</td>\n",
       "      <td>3</td>\n",
       "      <td>1</td>\n",
       "      <td>BADUNG</td>\n",
       "    </tr>\n",
       "    <tr>\n",
       "      <th>3</th>\n",
       "      <td>251</td>\n",
       "      <td>300</td>\n",
       "      <td>5</td>\n",
       "      <td>4</td>\n",
       "      <td>1</td>\n",
       "      <td>BADUNG</td>\n",
       "    </tr>\n",
       "    <tr>\n",
       "      <th>4</th>\n",
       "      <td>1340</td>\n",
       "      <td>575</td>\n",
       "      <td>4</td>\n",
       "      <td>5</td>\n",
       "      <td>1</td>\n",
       "      <td>BADUNG</td>\n",
       "    </tr>\n",
       "    <tr>\n",
       "      <th>...</th>\n",
       "      <td>...</td>\n",
       "      <td>...</td>\n",
       "      <td>...</td>\n",
       "      <td>...</td>\n",
       "      <td>...</td>\n",
       "      <td>...</td>\n",
       "    </tr>\n",
       "    <tr>\n",
       "      <th>996</th>\n",
       "      <td>488</td>\n",
       "      <td>550</td>\n",
       "      <td>6</td>\n",
       "      <td>5</td>\n",
       "      <td>1</td>\n",
       "      <td>BADUNG</td>\n",
       "    </tr>\n",
       "    <tr>\n",
       "      <th>997</th>\n",
       "      <td>209</td>\n",
       "      <td>270</td>\n",
       "      <td>4</td>\n",
       "      <td>4</td>\n",
       "      <td>1</td>\n",
       "      <td>BADUNG</td>\n",
       "    </tr>\n",
       "    <tr>\n",
       "      <th>998</th>\n",
       "      <td>692</td>\n",
       "      <td>400</td>\n",
       "      <td>4</td>\n",
       "      <td>3</td>\n",
       "      <td>0</td>\n",
       "      <td>BADUNG</td>\n",
       "    </tr>\n",
       "    <tr>\n",
       "      <th>999</th>\n",
       "      <td>102</td>\n",
       "      <td>140</td>\n",
       "      <td>4</td>\n",
       "      <td>3</td>\n",
       "      <td>0</td>\n",
       "      <td>BADUNG</td>\n",
       "    </tr>\n",
       "    <tr>\n",
       "      <th>1000</th>\n",
       "      <td>63</td>\n",
       "      <td>110</td>\n",
       "      <td>3</td>\n",
       "      <td>3</td>\n",
       "      <td>0</td>\n",
       "      <td>BADUNG</td>\n",
       "    </tr>\n",
       "  </tbody>\n",
       "</table>\n",
       "<p>1001 rows × 6 columns</p>\n",
       "</div>"
      ],
      "text/plain": [
       "        LT   LB  JKT  JKM  GRS    KOTA\n",
       "0     1100  700    5    6    1  BADUNG\n",
       "1      824  800    4    4    1  BADUNG\n",
       "2      500  400    4    3    1  BADUNG\n",
       "3      251  300    5    4    1  BADUNG\n",
       "4     1340  575    4    5    1  BADUNG\n",
       "...    ...  ...  ...  ...  ...     ...\n",
       "996    488  550    6    5    1  BADUNG\n",
       "997    209  270    4    4    1  BADUNG\n",
       "998    692  400    4    3    0  BADUNG\n",
       "999    102  140    4    3    0  BADUNG\n",
       "1000    63  110    3    3    0  BADUNG\n",
       "\n",
       "[1001 rows x 6 columns]"
      ]
     },
     "execution_count": 15,
     "metadata": {},
     "output_type": "execute_result"
    }
   ],
   "source": [
    "# explain the extracting data\n",
    "X"
   ]
  },
  {
   "cell_type": "code",
   "execution_count": 16,
   "metadata": {},
   "outputs": [
    {
     "data": {
      "text/plain": [
       "0       28000000000\n",
       "1       19000000000\n",
       "2        4700000000\n",
       "3        4900000000\n",
       "4       28000000000\n",
       "           ...     \n",
       "996     16000000000\n",
       "997      4500000000\n",
       "998     29000000000\n",
       "999      1700000000\n",
       "1000     1250000000\n",
       "Name: HARGA, Length: 1001, dtype: int64"
      ]
     },
     "execution_count": 16,
     "metadata": {},
     "output_type": "execute_result"
    }
   ],
   "source": [
    "y"
   ]
  },
  {
   "cell_type": "markdown",
   "metadata": {},
   "source": [
    "yg penting shapenya itu sama karena pada train yang mana data train x dengan train y harus punya bobot yang sama ataupun pada data testing"
   ]
  },
  {
   "cell_type": "code",
   "execution_count": 17,
   "metadata": {},
   "outputs": [
    {
     "data": {
      "text/html": [
       "<div>\n",
       "<style scoped>\n",
       "    .dataframe tbody tr th:only-of-type {\n",
       "        vertical-align: middle;\n",
       "    }\n",
       "\n",
       "    .dataframe tbody tr th {\n",
       "        vertical-align: top;\n",
       "    }\n",
       "\n",
       "    .dataframe thead th {\n",
       "        text-align: right;\n",
       "    }\n",
       "</style>\n",
       "<table border=\"1\" class=\"dataframe\">\n",
       "  <thead>\n",
       "    <tr style=\"text-align: right;\">\n",
       "      <th></th>\n",
       "      <th>HARGA</th>\n",
       "      <th>LT</th>\n",
       "      <th>LB</th>\n",
       "      <th>JKT</th>\n",
       "      <th>JKM</th>\n",
       "      <th>GRS</th>\n",
       "      <th>KOTA</th>\n",
       "    </tr>\n",
       "  </thead>\n",
       "  <tbody>\n",
       "    <tr>\n",
       "      <th>0</th>\n",
       "      <td>28000000000</td>\n",
       "      <td>1100</td>\n",
       "      <td>700</td>\n",
       "      <td>5</td>\n",
       "      <td>6</td>\n",
       "      <td>1</td>\n",
       "      <td>BADUNG</td>\n",
       "    </tr>\n",
       "    <tr>\n",
       "      <th>1</th>\n",
       "      <td>19000000000</td>\n",
       "      <td>824</td>\n",
       "      <td>800</td>\n",
       "      <td>4</td>\n",
       "      <td>4</td>\n",
       "      <td>1</td>\n",
       "      <td>BADUNG</td>\n",
       "    </tr>\n",
       "    <tr>\n",
       "      <th>2</th>\n",
       "      <td>4700000000</td>\n",
       "      <td>500</td>\n",
       "      <td>400</td>\n",
       "      <td>4</td>\n",
       "      <td>3</td>\n",
       "      <td>1</td>\n",
       "      <td>BADUNG</td>\n",
       "    </tr>\n",
       "    <tr>\n",
       "      <th>3</th>\n",
       "      <td>4900000000</td>\n",
       "      <td>251</td>\n",
       "      <td>300</td>\n",
       "      <td>5</td>\n",
       "      <td>4</td>\n",
       "      <td>1</td>\n",
       "      <td>BADUNG</td>\n",
       "    </tr>\n",
       "    <tr>\n",
       "      <th>4</th>\n",
       "      <td>28000000000</td>\n",
       "      <td>1340</td>\n",
       "      <td>575</td>\n",
       "      <td>4</td>\n",
       "      <td>5</td>\n",
       "      <td>1</td>\n",
       "      <td>BADUNG</td>\n",
       "    </tr>\n",
       "    <tr>\n",
       "      <th>...</th>\n",
       "      <td>...</td>\n",
       "      <td>...</td>\n",
       "      <td>...</td>\n",
       "      <td>...</td>\n",
       "      <td>...</td>\n",
       "      <td>...</td>\n",
       "      <td>...</td>\n",
       "    </tr>\n",
       "    <tr>\n",
       "      <th>996</th>\n",
       "      <td>16000000000</td>\n",
       "      <td>488</td>\n",
       "      <td>550</td>\n",
       "      <td>6</td>\n",
       "      <td>5</td>\n",
       "      <td>1</td>\n",
       "      <td>BADUNG</td>\n",
       "    </tr>\n",
       "    <tr>\n",
       "      <th>997</th>\n",
       "      <td>4500000000</td>\n",
       "      <td>209</td>\n",
       "      <td>270</td>\n",
       "      <td>4</td>\n",
       "      <td>4</td>\n",
       "      <td>1</td>\n",
       "      <td>BADUNG</td>\n",
       "    </tr>\n",
       "    <tr>\n",
       "      <th>998</th>\n",
       "      <td>29000000000</td>\n",
       "      <td>692</td>\n",
       "      <td>400</td>\n",
       "      <td>4</td>\n",
       "      <td>3</td>\n",
       "      <td>0</td>\n",
       "      <td>BADUNG</td>\n",
       "    </tr>\n",
       "    <tr>\n",
       "      <th>999</th>\n",
       "      <td>1700000000</td>\n",
       "      <td>102</td>\n",
       "      <td>140</td>\n",
       "      <td>4</td>\n",
       "      <td>3</td>\n",
       "      <td>0</td>\n",
       "      <td>BADUNG</td>\n",
       "    </tr>\n",
       "    <tr>\n",
       "      <th>1000</th>\n",
       "      <td>1250000000</td>\n",
       "      <td>63</td>\n",
       "      <td>110</td>\n",
       "      <td>3</td>\n",
       "      <td>3</td>\n",
       "      <td>0</td>\n",
       "      <td>BADUNG</td>\n",
       "    </tr>\n",
       "  </tbody>\n",
       "</table>\n",
       "<p>1001 rows × 7 columns</p>\n",
       "</div>"
      ],
      "text/plain": [
       "            HARGA    LT   LB  JKT  JKM  GRS    KOTA\n",
       "0     28000000000  1100  700    5    6    1  BADUNG\n",
       "1     19000000000   824  800    4    4    1  BADUNG\n",
       "2      4700000000   500  400    4    3    1  BADUNG\n",
       "3      4900000000   251  300    5    4    1  BADUNG\n",
       "4     28000000000  1340  575    4    5    1  BADUNG\n",
       "...           ...   ...  ...  ...  ...  ...     ...\n",
       "996   16000000000   488  550    6    5    1  BADUNG\n",
       "997    4500000000   209  270    4    4    1  BADUNG\n",
       "998   29000000000   692  400    4    3    0  BADUNG\n",
       "999    1700000000   102  140    4    3    0  BADUNG\n",
       "1000   1250000000    63  110    3    3    0  BADUNG\n",
       "\n",
       "[1001 rows x 7 columns]"
      ]
     },
     "execution_count": 17,
     "metadata": {},
     "output_type": "execute_result"
    }
   ],
   "source": [
    "df"
   ]
  },
  {
   "cell_type": "markdown",
   "metadata": {},
   "source": [
    "# Cleaned Data"
   ]
  },
  {
   "cell_type": "code",
   "execution_count": 18,
   "metadata": {},
   "outputs": [],
   "source": [
    "# convert the clan data to the csv\n",
    "df.to_csv(\"Data/Cleaned_House_Data.csv\",index=False)"
   ]
  },
  {
   "cell_type": "code",
   "execution_count": 19,
   "metadata": {},
   "outputs": [
    {
     "name": "stdout",
     "output_type": "stream",
     "text": [
      "<class 'pandas.core.frame.DataFrame'>\n",
      "RangeIndex: 1001 entries, 0 to 1000\n",
      "Data columns (total 7 columns):\n",
      " #   Column  Non-Null Count  Dtype \n",
      "---  ------  --------------  ----- \n",
      " 0   HARGA   1001 non-null   int64 \n",
      " 1   LT      1001 non-null   int64 \n",
      " 2   LB      1001 non-null   int64 \n",
      " 3   JKT     1001 non-null   int64 \n",
      " 4   JKM     1001 non-null   int64 \n",
      " 5   GRS     1001 non-null   int64 \n",
      " 6   KOTA    1001 non-null   object\n",
      "dtypes: int64(6), object(1)\n",
      "memory usage: 54.9+ KB\n"
     ]
    }
   ],
   "source": [
    "df.info()"
   ]
  },
  {
   "cell_type": "code",
   "execution_count": 20,
   "metadata": {},
   "outputs": [
    {
     "data": {
      "text/html": [
       "<div>\n",
       "<style scoped>\n",
       "    .dataframe tbody tr th:only-of-type {\n",
       "        vertical-align: middle;\n",
       "    }\n",
       "\n",
       "    .dataframe tbody tr th {\n",
       "        vertical-align: top;\n",
       "    }\n",
       "\n",
       "    .dataframe thead th {\n",
       "        text-align: right;\n",
       "    }\n",
       "</style>\n",
       "<table border=\"1\" class=\"dataframe\">\n",
       "  <thead>\n",
       "    <tr style=\"text-align: right;\">\n",
       "      <th></th>\n",
       "      <th>HARGA</th>\n",
       "      <th>LT</th>\n",
       "      <th>LB</th>\n",
       "      <th>JKT</th>\n",
       "      <th>JKM</th>\n",
       "      <th>GRS</th>\n",
       "      <th>KOTA</th>\n",
       "    </tr>\n",
       "  </thead>\n",
       "  <tbody>\n",
       "    <tr>\n",
       "      <th>count</th>\n",
       "      <td>1.001000e+03</td>\n",
       "      <td>1001.000000</td>\n",
       "      <td>1001.000000</td>\n",
       "      <td>1001.000000</td>\n",
       "      <td>1001.000000</td>\n",
       "      <td>1001.000000</td>\n",
       "      <td>1001</td>\n",
       "    </tr>\n",
       "    <tr>\n",
       "      <th>unique</th>\n",
       "      <td>NaN</td>\n",
       "      <td>NaN</td>\n",
       "      <td>NaN</td>\n",
       "      <td>NaN</td>\n",
       "      <td>NaN</td>\n",
       "      <td>NaN</td>\n",
       "      <td>1</td>\n",
       "    </tr>\n",
       "    <tr>\n",
       "      <th>top</th>\n",
       "      <td>NaN</td>\n",
       "      <td>NaN</td>\n",
       "      <td>NaN</td>\n",
       "      <td>NaN</td>\n",
       "      <td>NaN</td>\n",
       "      <td>NaN</td>\n",
       "      <td>BADUNG</td>\n",
       "    </tr>\n",
       "    <tr>\n",
       "      <th>freq</th>\n",
       "      <td>NaN</td>\n",
       "      <td>NaN</td>\n",
       "      <td>NaN</td>\n",
       "      <td>NaN</td>\n",
       "      <td>NaN</td>\n",
       "      <td>NaN</td>\n",
       "      <td>1001</td>\n",
       "    </tr>\n",
       "    <tr>\n",
       "      <th>mean</th>\n",
       "      <td>1.747472e+10</td>\n",
       "      <td>530.504496</td>\n",
       "      <td>487.275724</td>\n",
       "      <td>4.457542</td>\n",
       "      <td>3.940060</td>\n",
       "      <td>0.778222</td>\n",
       "      <td>NaN</td>\n",
       "    </tr>\n",
       "    <tr>\n",
       "      <th>std</th>\n",
       "      <td>2.079548e+10</td>\n",
       "      <td>531.069773</td>\n",
       "      <td>452.872262</td>\n",
       "      <td>2.004606</td>\n",
       "      <td>1.903261</td>\n",
       "      <td>0.415650</td>\n",
       "      <td>NaN</td>\n",
       "    </tr>\n",
       "    <tr>\n",
       "      <th>min</th>\n",
       "      <td>4.300000e+08</td>\n",
       "      <td>22.000000</td>\n",
       "      <td>38.000000</td>\n",
       "      <td>1.000000</td>\n",
       "      <td>1.000000</td>\n",
       "      <td>0.000000</td>\n",
       "      <td>NaN</td>\n",
       "    </tr>\n",
       "    <tr>\n",
       "      <th>25%</th>\n",
       "      <td>6.750000e+09</td>\n",
       "      <td>220.000000</td>\n",
       "      <td>300.000000</td>\n",
       "      <td>4.000000</td>\n",
       "      <td>3.000000</td>\n",
       "      <td>1.000000</td>\n",
       "      <td>NaN</td>\n",
       "    </tr>\n",
       "    <tr>\n",
       "      <th>50%</th>\n",
       "      <td>1.350000e+10</td>\n",
       "      <td>400.000000</td>\n",
       "      <td>411.000000</td>\n",
       "      <td>4.000000</td>\n",
       "      <td>4.000000</td>\n",
       "      <td>1.000000</td>\n",
       "      <td>NaN</td>\n",
       "    </tr>\n",
       "    <tr>\n",
       "      <th>75%</th>\n",
       "      <td>2.000000e+10</td>\n",
       "      <td>677.000000</td>\n",
       "      <td>600.000000</td>\n",
       "      <td>5.000000</td>\n",
       "      <td>4.000000</td>\n",
       "      <td>1.000000</td>\n",
       "      <td>NaN</td>\n",
       "    </tr>\n",
       "    <tr>\n",
       "      <th>max</th>\n",
       "      <td>2.500000e+11</td>\n",
       "      <td>6790.000000</td>\n",
       "      <td>10000.000000</td>\n",
       "      <td>27.000000</td>\n",
       "      <td>27.000000</td>\n",
       "      <td>1.000000</td>\n",
       "      <td>NaN</td>\n",
       "    </tr>\n",
       "  </tbody>\n",
       "</table>\n",
       "</div>"
      ],
      "text/plain": [
       "               HARGA           LT            LB          JKT          JKM  \\\n",
       "count   1.001000e+03  1001.000000   1001.000000  1001.000000  1001.000000   \n",
       "unique           NaN          NaN           NaN          NaN          NaN   \n",
       "top              NaN          NaN           NaN          NaN          NaN   \n",
       "freq             NaN          NaN           NaN          NaN          NaN   \n",
       "mean    1.747472e+10   530.504496    487.275724     4.457542     3.940060   \n",
       "std     2.079548e+10   531.069773    452.872262     2.004606     1.903261   \n",
       "min     4.300000e+08    22.000000     38.000000     1.000000     1.000000   \n",
       "25%     6.750000e+09   220.000000    300.000000     4.000000     3.000000   \n",
       "50%     1.350000e+10   400.000000    411.000000     4.000000     4.000000   \n",
       "75%     2.000000e+10   677.000000    600.000000     5.000000     4.000000   \n",
       "max     2.500000e+11  6790.000000  10000.000000    27.000000    27.000000   \n",
       "\n",
       "                GRS    KOTA  \n",
       "count   1001.000000    1001  \n",
       "unique          NaN       1  \n",
       "top             NaN  BADUNG  \n",
       "freq            NaN    1001  \n",
       "mean       0.778222     NaN  \n",
       "std        0.415650     NaN  \n",
       "min        0.000000     NaN  \n",
       "25%        1.000000     NaN  \n",
       "50%        1.000000     NaN  \n",
       "75%        1.000000     NaN  \n",
       "max        1.000000     NaN  "
      ]
     },
     "execution_count": 20,
     "metadata": {},
     "output_type": "execute_result"
    }
   ],
   "source": [
    "df.describe(include='all')"
   ]
  },
  {
   "cell_type": "code",
   "execution_count": 21,
   "metadata": {},
   "outputs": [
    {
     "data": {
      "text/plain": [
       "HARGA    1.000000\n",
       "LT       0.740467\n",
       "LB       0.651660\n",
       "JKM      0.231875\n",
       "JKT      0.217737\n",
       "GRS      0.096788\n",
       "Name: HARGA, dtype: float64"
      ]
     },
     "execution_count": 21,
     "metadata": {},
     "output_type": "execute_result"
    }
   ],
   "source": [
    "corelations=df.corr()\n",
    "corelations[\"HARGA\"].sort_values(ascending=False)"
   ]
  },
  {
   "cell_type": "code",
   "execution_count": 22,
   "metadata": {},
   "outputs": [
    {
     "data": {
      "text/plain": [
       "<AxesSubplot:>"
      ]
     },
     "execution_count": 22,
     "metadata": {},
     "output_type": "execute_result"
    },
    {
     "data": {
      "image/png": "[encoded data removed]",
      "text/plain": [
       "<Figure size 1440x720 with 2 Axes>"
      ]
     },
     "metadata": {
      "needs_background": "light"
     },
     "output_type": "display_data"
    }
   ],
   "source": [
    "import seaborn as sns\n",
    "import matplotlib.pyplot as plt\n",
    "plt.figure(figsize=(20,10))\n",
    "sns.heatmap(corelations,annot=True)"
   ]
  },
  {
   "cell_type": "markdown",
   "metadata": {},
   "source": [
    "Korelasi dari sebuah GRS, JKM, JKT sangat buruk dalam penentuan harga sebuah rumah maka dikarenakan sebuah valuenya mendekati 0 maka dari itu akan di drop"
   ]
  },
  {
   "cell_type": "code",
   "execution_count": 23,
   "metadata": {},
   "outputs": [
    {
     "data": {
      "text/html": [
       "<div>\n",
       "<style scoped>\n",
       "    .dataframe tbody tr th:only-of-type {\n",
       "        vertical-align: middle;\n",
       "    }\n",
       "\n",
       "    .dataframe tbody tr th {\n",
       "        vertical-align: top;\n",
       "    }\n",
       "\n",
       "    .dataframe thead th {\n",
       "        text-align: right;\n",
       "    }\n",
       "</style>\n",
       "<table border=\"1\" class=\"dataframe\">\n",
       "  <thead>\n",
       "    <tr style=\"text-align: right;\">\n",
       "      <th></th>\n",
       "      <th>HARGA</th>\n",
       "      <th>LT</th>\n",
       "      <th>LB</th>\n",
       "      <th>KOTA</th>\n",
       "    </tr>\n",
       "  </thead>\n",
       "  <tbody>\n",
       "    <tr>\n",
       "      <th>0</th>\n",
       "      <td>28000000000</td>\n",
       "      <td>1100</td>\n",
       "      <td>700</td>\n",
       "      <td>BADUNG</td>\n",
       "    </tr>\n",
       "    <tr>\n",
       "      <th>1</th>\n",
       "      <td>19000000000</td>\n",
       "      <td>824</td>\n",
       "      <td>800</td>\n",
       "      <td>BADUNG</td>\n",
       "    </tr>\n",
       "    <tr>\n",
       "      <th>2</th>\n",
       "      <td>4700000000</td>\n",
       "      <td>500</td>\n",
       "      <td>400</td>\n",
       "      <td>BADUNG</td>\n",
       "    </tr>\n",
       "    <tr>\n",
       "      <th>3</th>\n",
       "      <td>4900000000</td>\n",
       "      <td>251</td>\n",
       "      <td>300</td>\n",
       "      <td>BADUNG</td>\n",
       "    </tr>\n",
       "    <tr>\n",
       "      <th>4</th>\n",
       "      <td>28000000000</td>\n",
       "      <td>1340</td>\n",
       "      <td>575</td>\n",
       "      <td>BADUNG</td>\n",
       "    </tr>\n",
       "    <tr>\n",
       "      <th>...</th>\n",
       "      <td>...</td>\n",
       "      <td>...</td>\n",
       "      <td>...</td>\n",
       "      <td>...</td>\n",
       "    </tr>\n",
       "    <tr>\n",
       "      <th>996</th>\n",
       "      <td>16000000000</td>\n",
       "      <td>488</td>\n",
       "      <td>550</td>\n",
       "      <td>BADUNG</td>\n",
       "    </tr>\n",
       "    <tr>\n",
       "      <th>997</th>\n",
       "      <td>4500000000</td>\n",
       "      <td>209</td>\n",
       "      <td>270</td>\n",
       "      <td>BADUNG</td>\n",
       "    </tr>\n",
       "    <tr>\n",
       "      <th>998</th>\n",
       "      <td>29000000000</td>\n",
       "      <td>692</td>\n",
       "      <td>400</td>\n",
       "      <td>BADUNG</td>\n",
       "    </tr>\n",
       "    <tr>\n",
       "      <th>999</th>\n",
       "      <td>1700000000</td>\n",
       "      <td>102</td>\n",
       "      <td>140</td>\n",
       "      <td>BADUNG</td>\n",
       "    </tr>\n",
       "    <tr>\n",
       "      <th>1000</th>\n",
       "      <td>1250000000</td>\n",
       "      <td>63</td>\n",
       "      <td>110</td>\n",
       "      <td>BADUNG</td>\n",
       "    </tr>\n",
       "  </tbody>\n",
       "</table>\n",
       "<p>1001 rows × 4 columns</p>\n",
       "</div>"
      ],
      "text/plain": [
       "            HARGA    LT   LB    KOTA\n",
       "0     28000000000  1100  700  BADUNG\n",
       "1     19000000000   824  800  BADUNG\n",
       "2      4700000000   500  400  BADUNG\n",
       "3      4900000000   251  300  BADUNG\n",
       "4     28000000000  1340  575  BADUNG\n",
       "...           ...   ...  ...     ...\n",
       "996   16000000000   488  550  BADUNG\n",
       "997    4500000000   209  270  BADUNG\n",
       "998   29000000000   692  400  BADUNG\n",
       "999    1700000000   102  140  BADUNG\n",
       "1000   1250000000    63  110  BADUNG\n",
       "\n",
       "[1001 rows x 4 columns]"
      ]
     },
     "execution_count": 23,
     "metadata": {},
     "output_type": "execute_result"
    }
   ],
   "source": [
    "df = df.drop(columns=['JKT','JKM','GRS'],axis=1)\n",
    "df"
   ]
  },
  {
   "cell_type": "code",
   "execution_count": 24,
   "metadata": {},
   "outputs": [],
   "source": [
    "# transform the kota data\n",
    "from sklearn.preprocessing import OneHotEncoder\n",
    "from sklearn.compose import make_column_transformer\n",
    "ohe = OneHotEncoder(sparse='False',handle_unknown='ignore')\n",
    "df['KOTA']=ohe.fit_transform(df['KOTA'].values.reshape(-1,1)).toarray()"
   ]
  },
  {
   "cell_type": "code",
   "execution_count": 25,
   "metadata": {},
   "outputs": [
    {
     "data": {
      "text/html": [
       "<div>\n",
       "<style scoped>\n",
       "    .dataframe tbody tr th:only-of-type {\n",
       "        vertical-align: middle;\n",
       "    }\n",
       "\n",
       "    .dataframe tbody tr th {\n",
       "        vertical-align: top;\n",
       "    }\n",
       "\n",
       "    .dataframe thead th {\n",
       "        text-align: right;\n",
       "    }\n",
       "</style>\n",
       "<table border=\"1\" class=\"dataframe\">\n",
       "  <thead>\n",
       "    <tr style=\"text-align: right;\">\n",
       "      <th></th>\n",
       "      <th>HARGA</th>\n",
       "      <th>LT</th>\n",
       "      <th>LB</th>\n",
       "      <th>KOTA</th>\n",
       "    </tr>\n",
       "  </thead>\n",
       "  <tbody>\n",
       "    <tr>\n",
       "      <th>0</th>\n",
       "      <td>28000000000</td>\n",
       "      <td>1100</td>\n",
       "      <td>700</td>\n",
       "      <td>1.0</td>\n",
       "    </tr>\n",
       "    <tr>\n",
       "      <th>1</th>\n",
       "      <td>19000000000</td>\n",
       "      <td>824</td>\n",
       "      <td>800</td>\n",
       "      <td>1.0</td>\n",
       "    </tr>\n",
       "    <tr>\n",
       "      <th>2</th>\n",
       "      <td>4700000000</td>\n",
       "      <td>500</td>\n",
       "      <td>400</td>\n",
       "      <td>1.0</td>\n",
       "    </tr>\n",
       "    <tr>\n",
       "      <th>3</th>\n",
       "      <td>4900000000</td>\n",
       "      <td>251</td>\n",
       "      <td>300</td>\n",
       "      <td>1.0</td>\n",
       "    </tr>\n",
       "    <tr>\n",
       "      <th>4</th>\n",
       "      <td>28000000000</td>\n",
       "      <td>1340</td>\n",
       "      <td>575</td>\n",
       "      <td>1.0</td>\n",
       "    </tr>\n",
       "    <tr>\n",
       "      <th>...</th>\n",
       "      <td>...</td>\n",
       "      <td>...</td>\n",
       "      <td>...</td>\n",
       "      <td>...</td>\n",
       "    </tr>\n",
       "    <tr>\n",
       "      <th>996</th>\n",
       "      <td>16000000000</td>\n",
       "      <td>488</td>\n",
       "      <td>550</td>\n",
       "      <td>1.0</td>\n",
       "    </tr>\n",
       "    <tr>\n",
       "      <th>997</th>\n",
       "      <td>4500000000</td>\n",
       "      <td>209</td>\n",
       "      <td>270</td>\n",
       "      <td>1.0</td>\n",
       "    </tr>\n",
       "    <tr>\n",
       "      <th>998</th>\n",
       "      <td>29000000000</td>\n",
       "      <td>692</td>\n",
       "      <td>400</td>\n",
       "      <td>1.0</td>\n",
       "    </tr>\n",
       "    <tr>\n",
       "      <th>999</th>\n",
       "      <td>1700000000</td>\n",
       "      <td>102</td>\n",
       "      <td>140</td>\n",
       "      <td>1.0</td>\n",
       "    </tr>\n",
       "    <tr>\n",
       "      <th>1000</th>\n",
       "      <td>1250000000</td>\n",
       "      <td>63</td>\n",
       "      <td>110</td>\n",
       "      <td>1.0</td>\n",
       "    </tr>\n",
       "  </tbody>\n",
       "</table>\n",
       "<p>1001 rows × 4 columns</p>\n",
       "</div>"
      ],
      "text/plain": [
       "            HARGA    LT   LB  KOTA\n",
       "0     28000000000  1100  700   1.0\n",
       "1     19000000000   824  800   1.0\n",
       "2      4700000000   500  400   1.0\n",
       "3      4900000000   251  300   1.0\n",
       "4     28000000000  1340  575   1.0\n",
       "...           ...   ...  ...   ...\n",
       "996   16000000000   488  550   1.0\n",
       "997    4500000000   209  270   1.0\n",
       "998   29000000000   692  400   1.0\n",
       "999    1700000000   102  140   1.0\n",
       "1000   1250000000    63  110   1.0\n",
       "\n",
       "[1001 rows x 4 columns]"
      ]
     },
     "execution_count": 25,
     "metadata": {},
     "output_type": "execute_result"
    }
   ],
   "source": [
    "df"
   ]
  },
  {
   "cell_type": "code",
   "execution_count": 26,
   "metadata": {},
   "outputs": [
    {
     "data": {
      "text/plain": [
       "<AxesSubplot:>"
      ]
     },
     "execution_count": 26,
     "metadata": {},
     "output_type": "execute_result"
    },
    {
     "data": {
      "image/png": "[encoded data removed]",
      "text/plain": [
       "<Figure size 1440x720 with 2 Axes>"
      ]
     },
     "metadata": {
      "needs_background": "light"
     },
     "output_type": "display_data"
    }
   ],
   "source": [
    "import seaborn as sns\n",
    "import matplotlib.pyplot as plt\n",
    "plt.figure(figsize=(20,10))\n",
    "sns.heatmap(df.corr(),annot=True)"
   ]
  },
  {
   "cell_type": "code",
   "execution_count": 27,
   "metadata": {},
   "outputs": [
    {
     "data": {
      "text/plain": [
       "HARGA    1.000000\n",
       "LT       0.740467\n",
       "LB       0.651660\n",
       "KOTA          NaN\n",
       "Name: HARGA, dtype: float64"
      ]
     },
     "execution_count": 27,
     "metadata": {},
     "output_type": "execute_result"
    }
   ],
   "source": [
    "corelations =df.corr()\n",
    "corelations['HARGA'].sort_values(ascending=False)"
   ]
  },
  {
   "cell_type": "code",
   "execution_count": 28,
   "metadata": {},
   "outputs": [
    {
     "data": {
      "text/html": [
       "<div>\n",
       "<style scoped>\n",
       "    .dataframe tbody tr th:only-of-type {\n",
       "        vertical-align: middle;\n",
       "    }\n",
       "\n",
       "    .dataframe tbody tr th {\n",
       "        vertical-align: top;\n",
       "    }\n",
       "\n",
       "    .dataframe thead th {\n",
       "        text-align: right;\n",
       "    }\n",
       "</style>\n",
       "<table border=\"1\" class=\"dataframe\">\n",
       "  <thead>\n",
       "    <tr style=\"text-align: right;\">\n",
       "      <th></th>\n",
       "      <th>HARGA</th>\n",
       "      <th>LT</th>\n",
       "      <th>LB</th>\n",
       "    </tr>\n",
       "  </thead>\n",
       "  <tbody>\n",
       "    <tr>\n",
       "      <th>0</th>\n",
       "      <td>28000000000</td>\n",
       "      <td>1100</td>\n",
       "      <td>700</td>\n",
       "    </tr>\n",
       "    <tr>\n",
       "      <th>1</th>\n",
       "      <td>19000000000</td>\n",
       "      <td>824</td>\n",
       "      <td>800</td>\n",
       "    </tr>\n",
       "    <tr>\n",
       "      <th>2</th>\n",
       "      <td>4700000000</td>\n",
       "      <td>500</td>\n",
       "      <td>400</td>\n",
       "    </tr>\n",
       "    <tr>\n",
       "      <th>3</th>\n",
       "      <td>4900000000</td>\n",
       "      <td>251</td>\n",
       "      <td>300</td>\n",
       "    </tr>\n",
       "    <tr>\n",
       "      <th>4</th>\n",
       "      <td>28000000000</td>\n",
       "      <td>1340</td>\n",
       "      <td>575</td>\n",
       "    </tr>\n",
       "    <tr>\n",
       "      <th>...</th>\n",
       "      <td>...</td>\n",
       "      <td>...</td>\n",
       "      <td>...</td>\n",
       "    </tr>\n",
       "    <tr>\n",
       "      <th>996</th>\n",
       "      <td>16000000000</td>\n",
       "      <td>488</td>\n",
       "      <td>550</td>\n",
       "    </tr>\n",
       "    <tr>\n",
       "      <th>997</th>\n",
       "      <td>4500000000</td>\n",
       "      <td>209</td>\n",
       "      <td>270</td>\n",
       "    </tr>\n",
       "    <tr>\n",
       "      <th>998</th>\n",
       "      <td>29000000000</td>\n",
       "      <td>692</td>\n",
       "      <td>400</td>\n",
       "    </tr>\n",
       "    <tr>\n",
       "      <th>999</th>\n",
       "      <td>1700000000</td>\n",
       "      <td>102</td>\n",
       "      <td>140</td>\n",
       "    </tr>\n",
       "    <tr>\n",
       "      <th>1000</th>\n",
       "      <td>1250000000</td>\n",
       "      <td>63</td>\n",
       "      <td>110</td>\n",
       "    </tr>\n",
       "  </tbody>\n",
       "</table>\n",
       "<p>1001 rows × 3 columns</p>\n",
       "</div>"
      ],
      "text/plain": [
       "            HARGA    LT   LB\n",
       "0     28000000000  1100  700\n",
       "1     19000000000   824  800\n",
       "2      4700000000   500  400\n",
       "3      4900000000   251  300\n",
       "4     28000000000  1340  575\n",
       "...           ...   ...  ...\n",
       "996   16000000000   488  550\n",
       "997    4500000000   209  270\n",
       "998   29000000000   692  400\n",
       "999    1700000000   102  140\n",
       "1000   1250000000    63  110\n",
       "\n",
       "[1001 rows x 3 columns]"
      ]
     },
     "execution_count": 28,
     "metadata": {},
     "output_type": "execute_result"
    }
   ],
   "source": [
    "# omg its be slain too\n",
    "df = df.drop(columns='KOTA',axis=1)\n",
    "df"
   ]
  },
  {
   "cell_type": "code",
   "execution_count": 29,
   "metadata": {},
   "outputs": [],
   "source": [
    "# split the data to train and validation data\n",
    "X = df.drop([\"HARGA\"],axis=1).copy()\n",
    "y = df[\"HARGA\"].copy()\n",
    "from sklearn.model_selection import train_test_split\n",
    "X_train,X_test,y_train,y_test = train_test_split(X,y,test_size=0.2)\n"
   ]
  },
  {
   "cell_type": "code",
   "execution_count": 30,
   "metadata": {},
   "outputs": [
    {
     "name": "stdout",
     "output_type": "stream",
     "text": [
      "(800, 2)\n",
      "(800,)\n"
     ]
    }
   ],
   "source": [
    "print(X_train.shape)\n",
    "print(y_train.shape)"
   ]
  },
  {
   "cell_type": "code",
   "execution_count": 31,
   "metadata": {},
   "outputs": [
    {
     "name": "stdout",
     "output_type": "stream",
     "text": [
      "(201, 2)\n",
      "(201,)\n"
     ]
    }
   ],
   "source": [
    "print(X_test.shape)\n",
    "print(y_test.shape)"
   ]
  },
  {
   "cell_type": "markdown",
   "metadata": {},
   "source": [
    "Alright the data gone be balance"
   ]
  },
  {
   "cell_type": "code",
   "execution_count": 32,
   "metadata": {},
   "outputs": [
    {
     "data": {
      "text/plain": [
       "LinearRegression()"
      ]
     },
     "execution_count": 32,
     "metadata": {},
     "output_type": "execute_result"
    }
   ],
   "source": [
    "from sklearn.linear_model import LinearRegression\n",
    "from sklearn.metrics import r2_score # to know score accuracy like r1 score if use the classification\n",
    "model = LinearRegression()\n",
    "model.fit(X_train,y_train)"
   ]
  },
  {
   "cell_type": "code",
   "execution_count": 33,
   "metadata": {},
   "outputs": [
    {
     "data": {
      "text/plain": [
       "array([8.20699762e+09, 1.24265162e+10, 2.04114260e+10, 1.02526195e+10,\n",
       "       5.64130069e+09, 3.46267949e+10, 1.69061146e+10, 3.56669887e+10,\n",
       "       7.79093304e+09, 8.95590037e+09, 2.17982966e+10, 1.83311201e+10,\n",
       "       1.27420519e+10, 1.38931445e+10, 1.94406098e+10, 2.58375435e+10,\n",
       "       2.08795221e+10, 1.42398587e+10, 1.82790934e+10, 1.65455379e+10,\n",
       "       1.50719743e+10, 1.63895013e+10, 2.41212707e+10, 5.45629094e+10,\n",
       "       4.77450999e+09, 1.15424046e+10, 2.62015970e+10, 2.70337262e+10,\n",
       "       1.12234220e+10, 3.01194791e+10, 1.81231032e+10, 2.06194634e+10,\n",
       "       2.32926593e+10, 1.83311065e+10, 9.46903744e+09, 1.43265381e+10,\n",
       "       2.39652955e+10, 1.99260349e+10, 2.38265812e+10, 1.04606500e+10,\n",
       "       2.07581164e+10, 2.40173168e+10, 2.01860554e+10, 4.52882533e+10,\n",
       "       6.19604619e+09, 1.00445766e+10, 1.40560748e+10, 1.08073677e+10,\n",
       "       2.53174670e+10, 2.35318643e+10, 1.15319958e+10, 9.17779748e+09,\n",
       "       1.75336723e+10, 2.33584578e+10, 9.62852087e+09, 1.64241526e+10,\n",
       "       5.63090080e+09, 1.23329253e+10, 4.03475542e+10, 8.34567581e+09,\n",
       "       1.86778378e+10, 9.14313663e+09, 1.57307241e+10, 1.50719947e+10,\n",
       "       9.68747815e+09, 1.58694310e+10, 8.79641557e+09, 1.19515564e+10,\n",
       "       5.61233162e+10, 2.04114260e+10, 1.31130400e+10, 3.21429081e+09,\n",
       "       1.88685325e+10, 8.43235523e+09, 9.98217655e+09, 2.24640043e+10,\n",
       "       1.43403965e+10, 9.31648863e+09, 2.39652273e+10, 1.67708839e+10,\n",
       "       3.04661354e+10, 8.10298369e+09, 1.91285707e+10, 1.71696024e+10,\n",
       "       1.50719947e+10, 4.39881304e+10, 1.34389245e+10, 1.64241676e+10,\n",
       "       5.24258017e+09, 1.92603716e+10, 1.03566347e+10, 2.16249377e+10,\n",
       "       3.39333664e+10, 9.68747815e+09, 2.38647359e+10, 1.24369474e+10,\n",
       "       4.88199396e+09, 2.17982966e+10, 2.01860118e+10, 1.40144964e+10,\n",
       "       2.79698570e+10, 1.44825543e+10, 1.99294920e+10, 1.29257860e+10,\n",
       "       3.05826787e+09, 3.34652635e+10, 3.20784065e+10, 7.40955249e+09,\n",
       "       5.23301809e+10, 3.58749852e+10, 2.67390367e+10, 6.10936542e+09,\n",
       "       8.17232040e+09, 2.83859045e+10, 9.62852087e+09, 1.92603716e+10,\n",
       "       1.83311065e+10, 3.01194246e+10, 9.78455813e+09, 2.67216462e+10,\n",
       "       4.39881304e+10, 1.52626758e+10, 1.94579593e+10, 1.27836242e+10,\n",
       "       8.95590037e+09, 2.13475636e+10, 5.25990787e+09, 1.39869009e+11,\n",
       "       1.41705152e+10, 3.17490384e+10, 2.07580754e+10, 2.65656710e+10,\n",
       "       1.94925833e+10, 3.10334226e+09, 1.08073677e+10, 2.80391733e+10,\n",
       "       3.95972693e+09, 7.79093304e+09, 1.52279979e+10, 1.07726918e+10,\n",
       "       8.44970202e+09, 2.02207449e+10, 1.39971496e+10, 2.66523504e+10,\n",
       "       1.62508143e+10, 1.39798137e+10, 7.53091186e+09, 1.04121049e+10,\n",
       "       5.53728471e+09, 1.36331097e+10, 4.67049265e+09, 2.88365966e+10,\n",
       "       2.26824375e+10, 8.64039672e+09, 1.15007989e+10, 3.70538457e+10,\n",
       "       1.15701601e+10, 7.87762404e+09, 5.83892593e+09, 1.52973271e+10,\n",
       "       8.67160459e+09, 2.24397242e+10, 9.07378355e+09, 1.15354679e+10,\n",
       "       5.72797737e+09, 1.77243608e+10, 1.42052006e+10, 1.11020981e+10,\n",
       "       2.07581573e+10, 3.43840925e+10, 1.71349347e+10, 1.88511693e+10,\n",
       "       1.35464303e+10, 3.56669546e+10, 1.17851076e+10, 8.76174040e+09,\n",
       "       1.30783546e+10, 3.59567954e+09, 7.35754144e+09, 1.41358530e+10,\n",
       "       7.79093440e+09, 2.13475636e+10, 3.49166629e+09, 1.13378502e+10,\n",
       "       1.26160171e+11, 2.10354973e+10, 6.20034777e+10, 7.78054406e+09,\n",
       "       1.01832964e+10, 5.04841679e+09, 1.97665379e+10, 2.01686800e+10,\n",
       "       1.30471543e+10, 2.69990476e+10, 1.21595760e+10, 4.35547333e+10,\n",
       "       1.86778378e+10, 2.17982556e+10, 1.48639573e+10, 4.08107947e+09,\n",
       "       3.78858998e+10])"
      ]
     },
     "execution_count": 33,
     "metadata": {},
     "output_type": "execute_result"
    }
   ],
   "source": [
    "y_pred = model.predict(X_test)\n",
    "y_pred"
   ]
  },
  {
   "cell_type": "code",
   "execution_count": 34,
   "metadata": {},
   "outputs": [
    {
     "data": {
      "text/plain": [
       "array([  5000000000,   8650000000,  18000000000,   5000000000,\n",
       "         2480000000,  35000000000,  16000000000,  30000000000,\n",
       "         5800000000,   5500000000,  14000000000,  14000000000,\n",
       "         6800000000,  13000000000,  10700000000,  16500000000,\n",
       "        15000000000,  13500000000,  17000000000,  30000000000,\n",
       "        17000000000,   4050000000,  15000000000,  56000000000,\n",
       "         1880000000,  11100000000,  17500000000,  21000000000,\n",
       "         8500000000,  25000000000,  14500000000,  25000000000,\n",
       "        29500000000,  17000000000,   7500000000,  17000000000,\n",
       "        35000000000,  23000000000,  19000000000,   8600000000,\n",
       "        21000000000,  27500000000,  17000000000,  85000000000,\n",
       "         3600000000,   6250000000,  13000000000,   6500000000,\n",
       "        19700000000,  25000000000,   9500000000,   8200000000,\n",
       "        19000000000,  68000000000,   6150000000,   9000000000,\n",
       "         5300000000,  24000000000,  75000000000,   5500000000,\n",
       "        12000000000,   8500000000,  16000000000,  12000000000,\n",
       "         9550000000,  14200000000,   6800000000,   9900000000,\n",
       "        35000000000,  14900000000,   6500000000,   1140000000,\n",
       "         9900000000,   7500000000,   7700000000,  12990000000,\n",
       "        33000000000,   7900000000,  33000000000,   6200000000,\n",
       "        37500000000,   6700000000,  36000000000,  18500000000,\n",
       "        12500000000,  60000000000,  11900000000,  11000000000,\n",
       "         4000000000,  18000000000,   5900000000,  85000000000,\n",
       "        36000000000,   9550000000,  15000000000,  11500000000,\n",
       "         2200000000,  20000000000,  17000000000,  15000000000,\n",
       "        17500000000,  21000000000,  23000000000,  11510000000,\n",
       "         1310000000,  39000000000,  39000000000,   8250000000,\n",
       "       169000000000,  35500000000,  12900000000,   4300000000,\n",
       "         4970000000,  18500000000,   8750000000,  17000000000,\n",
       "        15000000000,  25000000000,   9500000000,  19000000000,\n",
       "        55000000000,  18500000000,  25000000000,  18500000000,\n",
       "         5900000000,  22000000000,   3650000000, 175230000000,\n",
       "         8000000000,  13500000000,  38000000000,  16000000000,\n",
       "        14000000000,    650000000,   6500000000,  35000000000,\n",
       "         1250000000,   5800000000,  16590000000,   9000000000,\n",
       "         5500000000,  11000000000,  13000000000,  33000000000,\n",
       "        14000000000,   6000000000,   1600000000,  18000000000,\n",
       "         4200000000,   6900000000,   1350000000,  17000000000,\n",
       "        16000000000,   7730000000,  13500000000,  40000000000,\n",
       "         5200000000,   5000000000,   4200000000,  32000000000,\n",
       "         8500000000,  21000000000,   5250000000,  11000000000,\n",
       "         4600000000,  34000000000,   9500000000,   5900000000,\n",
       "        23000000000,  34000000000,  22000000000,   9000000000,\n",
       "         7000000000,  36000000000,  10500000000,   7700000000,\n",
       "        30000000000,   3200000000,   5680000000,   8500000000,\n",
       "         4250000000,  22000000000,    550000000,   8000000000,\n",
       "       250000000000,  13000000000,  24300000000,   6750000000,\n",
       "         6750000000,   3600000000,  15000000000,  17500000000,\n",
       "        11750000000,  29950000000,   8500000000,  55000000000,\n",
       "        14500000000,  12600000000,  14000000000,   1300000000,\n",
       "        77500000000], dtype=int64)"
      ]
     },
     "execution_count": 34,
     "metadata": {},
     "output_type": "execute_result"
    }
   ],
   "source": [
    "y_test.values"
   ]
  },
  {
   "cell_type": "code",
   "execution_count": 35,
   "metadata": {},
   "outputs": [
    {
     "data": {
      "text/plain": [
       "0.6594707638319448"
      ]
     },
     "execution_count": 35,
     "metadata": {},
     "output_type": "execute_result"
    }
   ],
   "source": [
    "# omg we have problem to miss the predict hemmm be coreect will check\n",
    "from sklearn.metrics import r2_score\n",
    "r2_score(y_test,y_pred)"
   ]
  },
  {
   "cell_type": "markdown",
   "metadata": {},
   "source": [
    "so bad values\n",
    "\n",
    "But this can be batch gradient descant to use the change SVD algorithm"
   ]
  },
  {
   "cell_type": "code",
   "execution_count": 36,
   "metadata": {},
   "outputs": [
    {
     "data": {
      "text/plain": [
       "262"
      ]
     },
     "execution_count": 36,
     "metadata": {},
     "output_type": "execute_result"
    }
   ],
   "source": [
    "scores=[]\n",
    "for i in range(10000):\n",
    "    X_train,X_test,y_train,y_test = train_test_split(X,y,test_size=0.2,random_state=i)\n",
    "    model = LinearRegression()\n",
    "    model.fit(X_train,y_train)\n",
    "    y_pred = model.predict(X_test)\n",
    "    scores.append(r2_score(y_test,y_pred))\n",
    "np.argmax(scores)"
   ]
  },
  {
   "cell_type": "markdown",
   "metadata": {},
   "source": [
    "we have the maximum value r2 scores on the random state 262, will be make the value constant my friends"
   ]
  },
  {
   "cell_type": "code",
   "execution_count": 37,
   "metadata": {},
   "outputs": [
    {
     "data": {
      "text/plain": [
       "0.8553685207115741"
      ]
     },
     "execution_count": 37,
     "metadata": {},
     "output_type": "execute_result"
    }
   ],
   "source": [
    "scores[np.argmax(scores)]"
   ]
  },
  {
   "cell_type": "code",
   "execution_count": 38,
   "metadata": {},
   "outputs": [],
   "source": [
    "import pickle\n",
    "pickle\n",
    "pickle.dump(model,open('LinearRegressionModel.pkl','wb'))"
   ]
  },
  {
   "cell_type": "code",
   "execution_count": 39,
   "metadata": {},
   "outputs": [
    {
     "data": {
      "text/html": [
       "<div>\n",
       "<style scoped>\n",
       "    .dataframe tbody tr th:only-of-type {\n",
       "        vertical-align: middle;\n",
       "    }\n",
       "\n",
       "    .dataframe tbody tr th {\n",
       "        vertical-align: top;\n",
       "    }\n",
       "\n",
       "    .dataframe thead th {\n",
       "        text-align: right;\n",
       "    }\n",
       "</style>\n",
       "<table border=\"1\" class=\"dataframe\">\n",
       "  <thead>\n",
       "    <tr style=\"text-align: right;\">\n",
       "      <th></th>\n",
       "      <th>LT</th>\n",
       "      <th>LB</th>\n",
       "    </tr>\n",
       "  </thead>\n",
       "  <tbody>\n",
       "    <tr>\n",
       "      <th>165</th>\n",
       "      <td>176</td>\n",
       "      <td>400</td>\n",
       "    </tr>\n",
       "    <tr>\n",
       "      <th>533</th>\n",
       "      <td>50</td>\n",
       "      <td>80</td>\n",
       "    </tr>\n",
       "    <tr>\n",
       "      <th>623</th>\n",
       "      <td>400</td>\n",
       "      <td>280</td>\n",
       "    </tr>\n",
       "    <tr>\n",
       "      <th>912</th>\n",
       "      <td>616</td>\n",
       "      <td>600</td>\n",
       "    </tr>\n",
       "    <tr>\n",
       "      <th>27</th>\n",
       "      <td>220</td>\n",
       "      <td>350</td>\n",
       "    </tr>\n",
       "    <tr>\n",
       "      <th>...</th>\n",
       "      <td>...</td>\n",
       "      <td>...</td>\n",
       "    </tr>\n",
       "    <tr>\n",
       "      <th>862</th>\n",
       "      <td>3000</td>\n",
       "      <td>2000</td>\n",
       "    </tr>\n",
       "    <tr>\n",
       "      <th>468</th>\n",
       "      <td>1100</td>\n",
       "      <td>800</td>\n",
       "    </tr>\n",
       "    <tr>\n",
       "      <th>97</th>\n",
       "      <td>1019</td>\n",
       "      <td>650</td>\n",
       "    </tr>\n",
       "    <tr>\n",
       "      <th>593</th>\n",
       "      <td>145</td>\n",
       "      <td>330</td>\n",
       "    </tr>\n",
       "    <tr>\n",
       "      <th>476</th>\n",
       "      <td>1420</td>\n",
       "      <td>550</td>\n",
       "    </tr>\n",
       "  </tbody>\n",
       "</table>\n",
       "<p>201 rows × 2 columns</p>\n",
       "</div>"
      ],
      "text/plain": [
       "       LT    LB\n",
       "165   176   400\n",
       "533    50    80\n",
       "623   400   280\n",
       "912   616   600\n",
       "27    220   350\n",
       "..    ...   ...\n",
       "862  3000  2000\n",
       "468  1100   800\n",
       "97   1019   650\n",
       "593   145   330\n",
       "476  1420   550\n",
       "\n",
       "[201 rows x 2 columns]"
      ]
     },
     "execution_count": 39,
     "metadata": {},
     "output_type": "execute_result"
    }
   ],
   "source": [
    "X_test"
   ]
  },
  {
   "cell_type": "code",
   "execution_count": 40,
   "metadata": {},
   "outputs": [
    {
     "data": {
      "text/plain": [
       "165     5000000000\n",
       "533      950000000\n",
       "623     8500000000\n",
       "912    13000000000\n",
       "27     10500000000\n",
       "          ...     \n",
       "862    75000000000\n",
       "468    33000000000\n",
       "97     22000000000\n",
       "593     6800000000\n",
       "476    38500000000\n",
       "Name: HARGA, Length: 201, dtype: int64"
      ]
     },
     "execution_count": 40,
     "metadata": {},
     "output_type": "execute_result"
    }
   ],
   "source": [
    "y_test"
   ]
  },
  {
   "cell_type": "code",
   "execution_count": 45,
   "metadata": {},
   "outputs": [
    {
     "name": "stderr",
     "output_type": "stream",
     "text": [
      "c:\\Users\\User\\env\\lib\\site-packages\\sklearn\\base.py:450: UserWarning: X does not have valid feature names, but LinearRegression was fitted with feature names\n",
      "  warnings.warn(\n"
     ]
    },
    {
     "data": {
      "text/plain": [
       "array([3.72987621e+10])"
      ]
     },
     "execution_count": 45,
     "metadata": {},
     "output_type": "execute_result"
    }
   ],
   "source": [
    "model.predict([[1420,550]])"
   ]
  }
 ],
 "metadata": {
  "interpreter": {
   "hash": "89aa35353eaa928e998984a204f132b265767725a6c8e0da2957e298f8f04089"
  },
  "kernelspec": {
   "display_name": "Python 3.10.1 64-bit ('env': venv)",
   "language": "python",
   "name": "python3"
  },
  "language_info": {
   "codemirror_mode": {
    "name": "ipython",
    "version": 3
   },
   "file_extension": ".py",
   "mimetype": "text/x-python",
   "name": "python",
   "nbconvert_exporter": "python",
   "pygments_lexer": "ipython3",
   "version": "3.9.9"
  },
  "orig_nbformat": 4
 },
 "nbformat": 4,
 "nbformat_minor": 2
}
